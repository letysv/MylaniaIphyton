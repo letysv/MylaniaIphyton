{
 "metadata": {
  "name": "",
  "signature": "sha256:bc00e2e283632def66bd717793321c2df62548dbcb1f0500ef16015967ddb581"
 },
 "nbformat": 3,
 "nbformat_minor": 0,
 "worksheets": [
  {
   "cells": [
    {
     "cell_type": "code",
     "collapsed": false,
     "input": [
      "%run ../talktools.py"
     ],
     "language": "python",
     "metadata": {},
     "outputs": [
      {
       "html": [
        "<link href='http://fonts.googleapis.com/css?family=Alegreya+Sans:100,300,400,500,700,800,900,100italic,300italic,400italic,500italic,700italic,800italic,900italic' rel='stylesheet' type='text/css'>\n",
        "<link href='http://fonts.googleapis.com/css?family=Arvo:400,700,400italic' rel='stylesheet' type='text/css'>\n",
        "<link href='http://fonts.googleapis.com/css?family=PT+Mono' rel='stylesheet' type='text/css'>\n",
        "<link href='http://fonts.googleapis.com/css?family=Shadows+Into+Light' rel='stylesheet' type='text/css'>\n",
        "<link href='http://fonts.googleapis.com/css?family=Nixie+One' rel='stylesheet' type='text/css'>\n",
        "<style>\n",
        "\n",
        "@font-face {\n",
        "    font-family: \"Computer Modern\";\n",
        "    src: url('http://mirrors.ctan.org/fonts/cm-unicode/fonts/otf/cmunss.otf');\n",
        "}\n",
        "\n",
        "#notebook_panel { /* main background */\n",
        "    background: rgb(245,245,245);\n",
        "}\n",
        "\n",
        "div.cell { /* set cell width */\n",
        "    width: 750px;\n",
        "}\n",
        "\n",
        "div #notebook { /* centre the content */\n",
        "    background: #fff; /* white background for content */\n",
        "    width: 1000px;\n",
        "    margin: auto;\n",
        "    padding-left: 0em;\n",
        "}\n",
        "\n",
        "#notebook li { /* More space between bullet points */\n",
        "margin-top:0.8em;\n",
        "}\n",
        "\n",
        "/* draw border around running cells */\n",
        "div.cell.border-box-sizing.code_cell.running { \n",
        "    border: 1px solid #111;\n",
        "}\n",
        "\n",
        "/* Put a solid color box around each cell and its output, visually linking them*/\n",
        "div.cell.code_cell {\n",
        "    background-color: rgb(256,256,256); \n",
        "    border-radius: 0px; \n",
        "    padding: 0.5em;\n",
        "    margin-left:1em;\n",
        "    margin-top: 1em;\n",
        "}\n",
        "\n",
        "div.text_cell_render{\n",
        "    font-family: 'Alegreya Sans' sans-serif;\n",
        "    line-height: 140%;\n",
        "    font-size: 125%;\n",
        "    font-weight: 400;\n",
        "    width:600px;\n",
        "    margin-left:auto;\n",
        "    margin-right:auto;\n",
        "}\n",
        "\n",
        "\n",
        "/* Formatting for header cells */\n",
        ".text_cell_render h1 {\n",
        "    font-family: 'Nixie One', serif;\n",
        "    font-style:regular;\n",
        "    font-weight: 400;    \n",
        "    font-size: 45pt;\n",
        "    line-height: 100%;\n",
        "    color: rgb(0,51,102);\n",
        "    margin-bottom: 0.5em;\n",
        "    margin-top: 0.5em;\n",
        "    display: block;\n",
        "}\t\n",
        ".text_cell_render h2 {\n",
        "    font-family: 'Nixie One', serif;\n",
        "    font-weight: 400;\n",
        "    font-size: 30pt;\n",
        "    line-height: 100%;\n",
        "    color: rgb(0,51,102);\n",
        "    margin-bottom: 0.1em;\n",
        "    margin-top: 0.3em;\n",
        "    display: block;\n",
        "}\t\n",
        "\n",
        ".text_cell_render h3 {\n",
        "    font-family: 'Nixie One', serif;\n",
        "    margin-top:16px;\n",
        "\tfont-size: 22pt;\n",
        "    font-weight: 600;\n",
        "    margin-bottom: 3px;\n",
        "    font-style: regular;\n",
        "    color: rgb(102,102,0);\n",
        "}\n",
        "\n",
        ".text_cell_render h4 {    /*Use this for captions*/\n",
        "    font-family: 'Nixie One', serif;\n",
        "    font-size: 14pt;\n",
        "    text-align: center;\n",
        "    margin-top: 0em;\n",
        "    margin-bottom: 2em;\n",
        "    font-style: regular;\n",
        "}\n",
        "\n",
        ".text_cell_render h5 {  /*Use this for small titles*/\n",
        "    font-family: 'Nixie One', sans-serif;\n",
        "    font-weight: 400;\n",
        "    font-size: 16pt;\n",
        "    color: rgb(163,0,0);\n",
        "    font-style: italic;\n",
        "    margin-bottom: .1em;\n",
        "    margin-top: 0.8em;\n",
        "    display: block;\n",
        "}\n",
        "\n",
        ".text_cell_render h6 { /*use this for copyright note*/\n",
        "    font-family: 'PT Mono', sans-serif;\n",
        "    font-weight: 300;\n",
        "    font-size: 9pt;\n",
        "    line-height: 100%;\n",
        "    color: grey;\n",
        "    margin-bottom: 1px;\n",
        "    margin-top: 1px;\n",
        "}\n",
        "\n",
        ".CodeMirror{\n",
        "        font-family: \"PT Mono\";\n",
        "        font-size: 90%;\n",
        "}\n",
        "\n",
        "</style>\n",
        "<script>\n",
        "    MathJax.Hub.Config({\n",
        "                        TeX: {\n",
        "                           extensions: [\"AMSmath.js\"],\n",
        "                           equationNumbers: { autoNumber: \"AMS\", useLabelIds: true}\n",
        "                           },\n",
        "                tex2jax: {\n",
        "                    inlineMath: [ ['$','$'], [\"\\\\(\",\"\\\\)\"] ],\n",
        "                    displayMath: [ ['$$','$$'], [\"\\\\[\",\"\\\\]\"] ]\n",
        "                },\n",
        "                displayAlign: 'center', // Change this to 'center' to center equations.\n",
        "                \"HTML-CSS\": {\n",
        "                    styles: {'.MathJax_Display': {\"margin\": 4}}\n",
        "                }\n",
        "        });\n",
        "</script>"
       ],
       "metadata": {},
       "output_type": "display_data",
       "text": [
        "<IPython.core.display.HTML at 0xc95e828>"
       ]
      }
     ],
     "prompt_number": 1
    },
    {
     "cell_type": "code",
     "collapsed": false,
     "input": [
      "print \"Hola RySi 2014\""
     ],
     "language": "python",
     "metadata": {},
     "outputs": [
      {
       "output_type": "stream",
       "stream": "stdout",
       "text": [
        "Hola RySi 2014\n"
       ]
      }
     ],
     "prompt_number": 2
    },
    {
     "cell_type": "code",
     "collapsed": false,
     "input": [
      "a = 1"
     ],
     "language": "python",
     "metadata": {},
     "outputs": [],
     "prompt_number": 3
    },
    {
     "cell_type": "code",
     "collapsed": false,
     "input": [
      "a"
     ],
     "language": "python",
     "metadata": {},
     "outputs": [
      {
       "metadata": {},
       "output_type": "pyout",
       "prompt_number": 4,
       "text": [
        "1"
       ]
      }
     ],
     "prompt_number": 4
    },
    {
     "cell_type": "code",
     "collapsed": false,
     "input": [
      "from numpy.random import randn\n",
      "data = {i : randn() for i in range(7)}"
     ],
     "language": "python",
     "metadata": {},
     "outputs": [],
     "prompt_number": 5
    },
    {
     "cell_type": "code",
     "collapsed": false,
     "input": [
      "data"
     ],
     "language": "python",
     "metadata": {},
     "outputs": [
      {
       "metadata": {},
       "output_type": "pyout",
       "prompt_number": 6,
       "text": [
        "{0: -1.7983107043209463,\n",
        " 1: -1.004947124497556,\n",
        " 2: 0.1994116619980558,\n",
        " 3: -0.4712044792900297,\n",
        " 4: -1.1341782149452442,\n",
        " 5: -0.6378969040650079,\n",
        " 6: 0.40606106142562215}"
       ]
      }
     ],
     "prompt_number": 6
    },
    {
     "cell_type": "code",
     "collapsed": false,
     "input": [
      ">>> from numpy.random import randn\n",
      ">>> data = {i : randn() for i in range(7)}\n",
      ">>> print data # peque\u00f1a trampa para verlo como se ver\u00eda en consola"
     ],
     "language": "python",
     "metadata": {},
     "outputs": [
      {
       "output_type": "stream",
       "stream": "stdout",
       "text": [
        "{0: 0.057804248479990786, 1: -0.6445822335016296, 2: 0.9358803191361171, 3: 1.3730445814336345, 4: -1.0226631407793114, 5: 0.836662163548964, 6: -1.857034410654429}\n"
       ]
      }
     ],
     "prompt_number": 7
    },
    {
     "cell_type": "code",
     "collapsed": false,
     "input": [
      "Facundo = 1"
     ],
     "language": "python",
     "metadata": {},
     "outputs": [],
     "prompt_number": 8
    },
    {
     "cell_type": "code",
     "collapsed": false,
     "input": [
      "Fa = 4"
     ],
     "language": "python",
     "metadata": {},
     "outputs": [],
     "prompt_number": 9
    },
    {
     "cell_type": "code",
     "collapsed": false,
     "input": [
      "Fa"
     ],
     "language": "python",
     "metadata": {},
     "outputs": [
      {
       "metadata": {},
       "output_type": "pyout",
       "prompt_number": 10,
       "text": [
        "4"
       ]
      }
     ],
     "prompt_number": 10
    },
    {
     "cell_type": "code",
     "collapsed": false,
     "input": [
      "lista = [1, 2, 3, 4, 5]"
     ],
     "language": "python",
     "metadata": {},
     "outputs": [],
     "prompt_number": 11
    },
    {
     "cell_type": "code",
     "collapsed": false,
     "input": [
      "lista"
     ],
     "language": "python",
     "metadata": {},
     "outputs": [
      {
       "metadata": {},
       "output_type": "pyout",
       "prompt_number": 12,
       "text": [
        "[1, 2, 3, 4, 5]"
       ]
      }
     ],
     "prompt_number": 12
    },
    {
     "cell_type": "code",
     "collapsed": false,
     "input": [
      "import datetime"
     ],
     "language": "python",
     "metadata": {},
     "outputs": [],
     "prompt_number": 13
    },
    {
     "cell_type": "code",
     "collapsed": false,
     "input": [
      "datetime"
     ],
     "language": "python",
     "metadata": {},
     "outputs": [
      {
       "metadata": {},
       "output_type": "pyout",
       "prompt_number": 14,
       "text": [
        "<module 'datetime' (built-in)>"
       ]
      }
     ],
     "prompt_number": 14
    },
    {
     "cell_type": "code",
     "collapsed": false,
     "input": [
      "ls"
     ],
     "language": "python",
     "metadata": {},
     "outputs": [
      {
       "output_type": "stream",
       "stream": "stdout",
       "text": [
        " El volumen de la unidad C no tiene etiqueta.\n",
        " El n\u00a3mero de serie del volumen es: 8AAF-948E\n",
        "\n",
        " Directorio de C:\\Users\\Lety\\Documents\\IPython Notebooks\\lania.ipython\\Dia2\\notebooks\n",
        "\n",
        "15/11/2014  09:54 a.m.    <DIR>          .\n",
        "15/11/2014  09:54 a.m.    <DIR>          ..\n",
        "15/11/2014  09:54 a.m.    <DIR>          .ipynb_checkpoints\n",
        "15/11/2014  09:45 a.m.                13 archivonuevogenial.txt\n",
        "15/11/2014  09:45 a.m.                50 hola_clase.py\n",
        "15/11/2014  09:45 a.m.                29 hola_clase_espa.py\n",
        "15/11/2014  09:45 a.m.            17,581 Lib01_Esenciales_Python.ipynb\n",
        "15/11/2014  09:45 a.m.            15,229 Lib02_Esenciales_DataStructures.ipynb\n",
        "15/11/2014  09:45 a.m.            15,797 Lib03_Esenciales_DataStructures.ipynb\n",
        "15/11/2014  09:45 a.m.            41,011 Lib04_Esenciales_TextFiles.ipynb\n",
        "15/11/2014  09:45 a.m.            44,994 Lib05_Ejercicios01.ipynb\n",
        "15/11/2014  09:45 a.m.            69,435 Lib05Dia2_Ejercicios01_Sedas_Vargas_Leticia.ipynb\n",
        "15/11/2014  09:45 a.m.            21,537 Lib06_Ejercicios02.ipynb\n",
        "15/11/2014  09:45 a.m.            17,882 Lib06Dia2_Ejercicios02_Sedas_Vargas_Leticia.ipynb\n",
        "15/11/2014  09:45 a.m.           114,907 Lib07_Ejercicios03.ipynb\n",
        "26/11/2014  09:22 p.m.            73,744 Lib07Dia2_Ejercicios03_Sedas_Vargas_Leticia.ipynb\n",
        "04/11/2014  10:13 p.m.            44,576 Lib08_Ejercicios04.ipynb\n",
        "15/11/2014  09:54 a.m.            45,939 Lib08Dia2_Ejercicios04_Sedas_Vargas_Leticia.ipynb\n",
        "15/11/2014  09:45 a.m.            84,064 Lib09_ProcesandoDatos01.ipynb\n",
        "15/11/2014  09:45 a.m.            28,021 Lib10_GraficandoDatos.ipynb\n",
        "15/11/2014  09:45 a.m.         1,676,419 Lib11_ArchivosCSV.ipynb\n",
        "15/11/2014  09:45 a.m.           148,399 Lib12_pandas.ipynb\n",
        "26/11/2014  09:18 p.m.               612 mimodulo.py\n",
        "              20 archivos      2,460,239 bytes\n",
        "               3 dirs  134,521,237,504 bytes libres\n"
       ]
      }
     ],
     "prompt_number": 15
    },
    {
     "cell_type": "code",
     "collapsed": false,
     "input": [
      "ls \"scripts/\""
     ],
     "language": "python",
     "metadata": {},
     "outputs": [
      {
       "output_type": "stream",
       "stream": "stdout",
       "text": [
        " El volumen de la unidad C no tiene etiqueta.\n",
        " El n\u00a3mero de serie del volumen es: 1AA8-AC3A\n",
        "\n",
        " Directorio de C:\\Users\\Lore\\Documents\\IPython Notebooks\\lania.ipython\\Dia2\\notebooks\\scripts\n",
        "\n",
        "13/11/2014  20:47    <DIR>          .\n",
        "13/11/2014  20:47    <DIR>          ..\n",
        "12/11/2014  22:22               614 mimodulo.py\n",
        "12/11/2014  22:22             1.115 mimodulo.pyc\n",
        "               2 archivos          1.729 bytes\n",
        "               2 dirs   8.112.787.456 bytes libres\n"
       ]
      }
     ],
     "prompt_number": 30
    },
    {
     "cell_type": "code",
     "collapsed": false,
     "input": [
      "lista?"
     ],
     "language": "python",
     "metadata": {},
     "outputs": [],
     "prompt_number": 16
    },
    {
     "cell_type": "code",
     "collapsed": false,
     "input": [
      "def suma(a, b):\n",
      "    \"\"\"\n",
      "    Demo de una funci\u00f3n que suma cosas...\n",
      "    \"\"\"\n",
      "    return a + b"
     ],
     "language": "python",
     "metadata": {},
     "outputs": [],
     "prompt_number": 17
    },
    {
     "cell_type": "code",
     "collapsed": false,
     "input": [
      "suma?"
     ],
     "language": "python",
     "metadata": {},
     "outputs": [],
     "prompt_number": 18
    },
    {
     "cell_type": "code",
     "collapsed": false,
     "input": [
      "suma??"
     ],
     "language": "python",
     "metadata": {},
     "outputs": [],
     "prompt_number": 19
    },
    {
     "cell_type": "code",
     "collapsed": false,
     "input": [
      "import numpy as np\n",
      "np.*lin*?"
     ],
     "language": "python",
     "metadata": {},
     "outputs": [],
     "prompt_number": 20
    },
    {
     "cell_type": "code",
     "collapsed": false,
     "input": [
      "mkdir \"temporal\"/"
     ],
     "language": "python",
     "metadata": {},
     "outputs": [],
     "prompt_number": 49
    },
    {
     "cell_type": "code",
     "collapsed": false,
     "input": [
      "ls temporal"
     ],
     "language": "python",
     "metadata": {},
     "outputs": [
      {
       "output_type": "stream",
       "stream": "stdout",
       "text": [
        " El volumen de la unidad C no tiene etiqueta.\n",
        " El n\u00a3mero de serie del volumen es: 8AAF-948E\n",
        "\n",
        " Directorio de C:\\Users\\Lety\\Documents\\IPython Notebooks\\lania.ipython\\Dia2\\notebooks\n",
        "\n"
       ]
      },
      {
       "output_type": "stream",
       "stream": "stderr",
       "text": [
        "No se encuentra el archivo\n"
       ]
      }
     ],
     "prompt_number": 21
    },
    {
     "cell_type": "code",
     "collapsed": false,
     "input": [
      "!cat temporal/mi_programa.py"
     ],
     "language": "python",
     "metadata": {},
     "outputs": [
      {
       "output_type": "stream",
       "stream": "stderr",
       "text": [
        "\"cat\" no se reconoce como un comando interno o externo,\n",
        "programa o archivo por lotes ejecutable.\n"
       ]
      }
     ],
     "prompt_number": 22
    },
    {
     "cell_type": "code",
     "collapsed": false,
     "input": [
      "%%writefile temporal/mi_programa.py\n",
      "def mi_funcion(x, y):\n",
      "    \"\"\"\n",
      "    Demo\n",
      "    \"\"\"\n",
      "    return x / y\n",
      "\n",
      "x = 4\n",
      "y = 2\n",
      "\n",
      "resultado = mi_funcion(x, y)"
     ],
     "language": "python",
     "metadata": {},
     "outputs": [
      {
       "output_type": "stream",
       "stream": "stdout",
       "text": [
        "Writing temporal/mi_programa.py\n"
       ]
      },
      {
       "ename": "IOError",
       "evalue": "[Errno 2] No such file or directory: u'temporal/mi_programa.py'",
       "output_type": "pyerr",
       "traceback": [
        "\u001b[1;31m---------------------------------------------------------------------------\u001b[0m\n\u001b[1;31mIOError\u001b[0m                                   Traceback (most recent call last)",
        "\u001b[1;32m<ipython-input-23-4cec1c90aeab>\u001b[0m in \u001b[0;36m<module>\u001b[1;34m()\u001b[0m\n\u001b[1;32m----> 1\u001b[1;33m \u001b[0mget_ipython\u001b[0m\u001b[1;33m(\u001b[0m\u001b[1;33m)\u001b[0m\u001b[1;33m.\u001b[0m\u001b[0mrun_cell_magic\u001b[0m\u001b[1;33m(\u001b[0m\u001b[1;34mu'writefile'\u001b[0m\u001b[1;33m,\u001b[0m \u001b[1;34mu'temporal/mi_programa.py'\u001b[0m\u001b[1;33m,\u001b[0m \u001b[1;34mu'def mi_funcion(x, y):\\n    \"\"\"\\n    Demo\\n    \"\"\"\\n    return x / y\\n\\nx = 4\\ny = 2\\n\\nresultado = mi_funcion(x, y)'\u001b[0m\u001b[1;33m)\u001b[0m\u001b[1;33m\u001b[0m\u001b[0m\n\u001b[0m",
        "\u001b[1;32mC:\\Users\\Lety\\Anaconda\\lib\\site-packages\\IPython\\core\\interactiveshell.pyc\u001b[0m in \u001b[0;36mrun_cell_magic\u001b[1;34m(self, magic_name, line, cell)\u001b[0m\n\u001b[0;32m   2160\u001b[0m             \u001b[0mmagic_arg_s\u001b[0m \u001b[1;33m=\u001b[0m \u001b[0mself\u001b[0m\u001b[1;33m.\u001b[0m\u001b[0mvar_expand\u001b[0m\u001b[1;33m(\u001b[0m\u001b[0mline\u001b[0m\u001b[1;33m,\u001b[0m \u001b[0mstack_depth\u001b[0m\u001b[1;33m)\u001b[0m\u001b[1;33m\u001b[0m\u001b[0m\n\u001b[0;32m   2161\u001b[0m             \u001b[1;32mwith\u001b[0m \u001b[0mself\u001b[0m\u001b[1;33m.\u001b[0m\u001b[0mbuiltin_trap\u001b[0m\u001b[1;33m:\u001b[0m\u001b[1;33m\u001b[0m\u001b[0m\n\u001b[1;32m-> 2162\u001b[1;33m                 \u001b[0mresult\u001b[0m \u001b[1;33m=\u001b[0m \u001b[0mfn\u001b[0m\u001b[1;33m(\u001b[0m\u001b[0mmagic_arg_s\u001b[0m\u001b[1;33m,\u001b[0m \u001b[0mcell\u001b[0m\u001b[1;33m)\u001b[0m\u001b[1;33m\u001b[0m\u001b[0m\n\u001b[0m\u001b[0;32m   2163\u001b[0m             \u001b[1;32mreturn\u001b[0m \u001b[0mresult\u001b[0m\u001b[1;33m\u001b[0m\u001b[0m\n\u001b[0;32m   2164\u001b[0m \u001b[1;33m\u001b[0m\u001b[0m\n",
        "\u001b[1;32mC:\\Users\\Lety\\Anaconda\\lib\\site-packages\\IPython\\core\\magics\\osm.pyc\u001b[0m in \u001b[0;36mwritefile\u001b[1;34m(self, line, cell)\u001b[0m\n",
        "\u001b[1;32mC:\\Users\\Lety\\Anaconda\\lib\\site-packages\\IPython\\core\\magic.pyc\u001b[0m in \u001b[0;36m<lambda>\u001b[1;34m(f, *a, **k)\u001b[0m\n\u001b[0;32m    191\u001b[0m     \u001b[1;31m# but it's overkill for just that one bit of state.\u001b[0m\u001b[1;33m\u001b[0m\u001b[1;33m\u001b[0m\u001b[0m\n\u001b[0;32m    192\u001b[0m     \u001b[1;32mdef\u001b[0m \u001b[0mmagic_deco\u001b[0m\u001b[1;33m(\u001b[0m\u001b[0marg\u001b[0m\u001b[1;33m)\u001b[0m\u001b[1;33m:\u001b[0m\u001b[1;33m\u001b[0m\u001b[0m\n\u001b[1;32m--> 193\u001b[1;33m         \u001b[0mcall\u001b[0m \u001b[1;33m=\u001b[0m \u001b[1;32mlambda\u001b[0m \u001b[0mf\u001b[0m\u001b[1;33m,\u001b[0m \u001b[1;33m*\u001b[0m\u001b[0ma\u001b[0m\u001b[1;33m,\u001b[0m \u001b[1;33m**\u001b[0m\u001b[0mk\u001b[0m\u001b[1;33m:\u001b[0m \u001b[0mf\u001b[0m\u001b[1;33m(\u001b[0m\u001b[1;33m*\u001b[0m\u001b[0ma\u001b[0m\u001b[1;33m,\u001b[0m \u001b[1;33m**\u001b[0m\u001b[0mk\u001b[0m\u001b[1;33m)\u001b[0m\u001b[1;33m\u001b[0m\u001b[0m\n\u001b[0m\u001b[0;32m    194\u001b[0m \u001b[1;33m\u001b[0m\u001b[0m\n\u001b[0;32m    195\u001b[0m         \u001b[1;32mif\u001b[0m \u001b[0mcallable\u001b[0m\u001b[1;33m(\u001b[0m\u001b[0marg\u001b[0m\u001b[1;33m)\u001b[0m\u001b[1;33m:\u001b[0m\u001b[1;33m\u001b[0m\u001b[0m\n",
        "\u001b[1;32mC:\\Users\\Lety\\Anaconda\\lib\\site-packages\\IPython\\core\\magics\\osm.pyc\u001b[0m in \u001b[0;36mwritefile\u001b[1;34m(self, line, cell)\u001b[0m\n\u001b[0;32m    737\u001b[0m \u001b[1;33m\u001b[0m\u001b[0m\n\u001b[0;32m    738\u001b[0m         \u001b[0mmode\u001b[0m \u001b[1;33m=\u001b[0m \u001b[1;34m'a'\u001b[0m \u001b[1;32mif\u001b[0m \u001b[0margs\u001b[0m\u001b[1;33m.\u001b[0m\u001b[0mappend\u001b[0m \u001b[1;32melse\u001b[0m \u001b[1;34m'w'\u001b[0m\u001b[1;33m\u001b[0m\u001b[0m\n\u001b[1;32m--> 739\u001b[1;33m         \u001b[1;32mwith\u001b[0m \u001b[0mio\u001b[0m\u001b[1;33m.\u001b[0m\u001b[0mopen\u001b[0m\u001b[1;33m(\u001b[0m\u001b[0mfilename\u001b[0m\u001b[1;33m,\u001b[0m \u001b[0mmode\u001b[0m\u001b[1;33m,\u001b[0m \u001b[0mencoding\u001b[0m\u001b[1;33m=\u001b[0m\u001b[1;34m'utf-8'\u001b[0m\u001b[1;33m)\u001b[0m \u001b[1;32mas\u001b[0m \u001b[0mf\u001b[0m\u001b[1;33m:\u001b[0m\u001b[1;33m\u001b[0m\u001b[0m\n\u001b[0m\u001b[0;32m    740\u001b[0m             \u001b[0mf\u001b[0m\u001b[1;33m.\u001b[0m\u001b[0mwrite\u001b[0m\u001b[1;33m(\u001b[0m\u001b[0mcell\u001b[0m\u001b[1;33m)\u001b[0m\u001b[1;33m\u001b[0m\u001b[0m\n",
        "\u001b[1;31mIOError\u001b[0m: [Errno 2] No such file or directory: u'temporal/mi_programa.py'"
       ]
      }
     ],
     "prompt_number": 23
    },
    {
     "cell_type": "code",
     "collapsed": false,
     "input": [
      "!cat temporal/mi_programa.py"
     ],
     "language": "python",
     "metadata": {},
     "outputs": [
      {
       "output_type": "stream",
       "stream": "stderr",
       "text": [
        "\"cat\" no se reconoce como un comando interno o externo,\n",
        "programa o archivo por lotes ejecutable.\n"
       ]
      }
     ],
     "prompt_number": 24
    },
    {
     "cell_type": "code",
     "collapsed": false,
     "input": [
      "%run temporal/mi_programa.py"
     ],
     "language": "python",
     "metadata": {},
     "outputs": [
      {
       "output_type": "stream",
       "stream": "stderr",
       "text": [
        "ERROR: File `u'temporal/mi_programa.py'` not found.\n"
       ]
      }
     ],
     "prompt_number": 25
    },
    {
     "cell_type": "code",
     "collapsed": false,
     "input": [
      "resultado"
     ],
     "language": "python",
     "metadata": {},
     "outputs": [
      {
       "ename": "NameError",
       "evalue": "name 'resultado' is not defined",
       "output_type": "pyerr",
       "traceback": [
        "\u001b[1;31m---------------------------------------------------------------------------\u001b[0m\n\u001b[1;31mNameError\u001b[0m                                 Traceback (most recent call last)",
        "\u001b[1;32m<ipython-input-26-ba9d2518632c>\u001b[0m in \u001b[0;36m<module>\u001b[1;34m()\u001b[0m\n\u001b[1;32m----> 1\u001b[1;33m \u001b[0mresultado\u001b[0m\u001b[1;33m\u001b[0m\u001b[0m\n\u001b[0m",
        "\u001b[1;31mNameError\u001b[0m: name 'resultado' is not defined"
       ]
      }
     ],
     "prompt_number": 26
    },
    {
     "cell_type": "code",
     "collapsed": false,
     "input": [
      "%%writefile temporal/mi_programa.py\n",
      "def mi_funcion(x, y):\n",
      "    \"\"\"\n",
      "    Demo\n",
      "    \"\"\"\n",
      "    return x / y\n",
      "\n",
      "x = 4\n",
      "y = 0\n",
      "\n",
      "resultado = mi_funcion(x, y)"
     ],
     "language": "python",
     "metadata": {},
     "outputs": [
      {
       "output_type": "stream",
       "stream": "stdout",
       "text": [
        "Writing temporal/mi_programa.py\n"
       ]
      },
      {
       "ename": "IOError",
       "evalue": "[Errno 2] No such file or directory: u'temporal/mi_programa.py'",
       "output_type": "pyerr",
       "traceback": [
        "\u001b[1;31m---------------------------------------------------------------------------\u001b[0m\n\u001b[1;31mIOError\u001b[0m                                   Traceback (most recent call last)",
        "\u001b[1;32m<ipython-input-27-1915d8589a7b>\u001b[0m in \u001b[0;36m<module>\u001b[1;34m()\u001b[0m\n\u001b[1;32m----> 1\u001b[1;33m \u001b[0mget_ipython\u001b[0m\u001b[1;33m(\u001b[0m\u001b[1;33m)\u001b[0m\u001b[1;33m.\u001b[0m\u001b[0mrun_cell_magic\u001b[0m\u001b[1;33m(\u001b[0m\u001b[1;34mu'writefile'\u001b[0m\u001b[1;33m,\u001b[0m \u001b[1;34mu'temporal/mi_programa.py'\u001b[0m\u001b[1;33m,\u001b[0m \u001b[1;34mu'def mi_funcion(x, y):\\n    \"\"\"\\n    Demo\\n    \"\"\"\\n    return x / y\\n\\nx = 4\\ny = 0\\n\\nresultado = mi_funcion(x, y)'\u001b[0m\u001b[1;33m)\u001b[0m\u001b[1;33m\u001b[0m\u001b[0m\n\u001b[0m",
        "\u001b[1;32mC:\\Users\\Lety\\Anaconda\\lib\\site-packages\\IPython\\core\\interactiveshell.pyc\u001b[0m in \u001b[0;36mrun_cell_magic\u001b[1;34m(self, magic_name, line, cell)\u001b[0m\n\u001b[0;32m   2160\u001b[0m             \u001b[0mmagic_arg_s\u001b[0m \u001b[1;33m=\u001b[0m \u001b[0mself\u001b[0m\u001b[1;33m.\u001b[0m\u001b[0mvar_expand\u001b[0m\u001b[1;33m(\u001b[0m\u001b[0mline\u001b[0m\u001b[1;33m,\u001b[0m \u001b[0mstack_depth\u001b[0m\u001b[1;33m)\u001b[0m\u001b[1;33m\u001b[0m\u001b[0m\n\u001b[0;32m   2161\u001b[0m             \u001b[1;32mwith\u001b[0m \u001b[0mself\u001b[0m\u001b[1;33m.\u001b[0m\u001b[0mbuiltin_trap\u001b[0m\u001b[1;33m:\u001b[0m\u001b[1;33m\u001b[0m\u001b[0m\n\u001b[1;32m-> 2162\u001b[1;33m                 \u001b[0mresult\u001b[0m \u001b[1;33m=\u001b[0m \u001b[0mfn\u001b[0m\u001b[1;33m(\u001b[0m\u001b[0mmagic_arg_s\u001b[0m\u001b[1;33m,\u001b[0m \u001b[0mcell\u001b[0m\u001b[1;33m)\u001b[0m\u001b[1;33m\u001b[0m\u001b[0m\n\u001b[0m\u001b[0;32m   2163\u001b[0m             \u001b[1;32mreturn\u001b[0m \u001b[0mresult\u001b[0m\u001b[1;33m\u001b[0m\u001b[0m\n\u001b[0;32m   2164\u001b[0m \u001b[1;33m\u001b[0m\u001b[0m\n",
        "\u001b[1;32mC:\\Users\\Lety\\Anaconda\\lib\\site-packages\\IPython\\core\\magics\\osm.pyc\u001b[0m in \u001b[0;36mwritefile\u001b[1;34m(self, line, cell)\u001b[0m\n",
        "\u001b[1;32mC:\\Users\\Lety\\Anaconda\\lib\\site-packages\\IPython\\core\\magic.pyc\u001b[0m in \u001b[0;36m<lambda>\u001b[1;34m(f, *a, **k)\u001b[0m\n\u001b[0;32m    191\u001b[0m     \u001b[1;31m# but it's overkill for just that one bit of state.\u001b[0m\u001b[1;33m\u001b[0m\u001b[1;33m\u001b[0m\u001b[0m\n\u001b[0;32m    192\u001b[0m     \u001b[1;32mdef\u001b[0m \u001b[0mmagic_deco\u001b[0m\u001b[1;33m(\u001b[0m\u001b[0marg\u001b[0m\u001b[1;33m)\u001b[0m\u001b[1;33m:\u001b[0m\u001b[1;33m\u001b[0m\u001b[0m\n\u001b[1;32m--> 193\u001b[1;33m         \u001b[0mcall\u001b[0m \u001b[1;33m=\u001b[0m \u001b[1;32mlambda\u001b[0m \u001b[0mf\u001b[0m\u001b[1;33m,\u001b[0m \u001b[1;33m*\u001b[0m\u001b[0ma\u001b[0m\u001b[1;33m,\u001b[0m \u001b[1;33m**\u001b[0m\u001b[0mk\u001b[0m\u001b[1;33m:\u001b[0m \u001b[0mf\u001b[0m\u001b[1;33m(\u001b[0m\u001b[1;33m*\u001b[0m\u001b[0ma\u001b[0m\u001b[1;33m,\u001b[0m \u001b[1;33m**\u001b[0m\u001b[0mk\u001b[0m\u001b[1;33m)\u001b[0m\u001b[1;33m\u001b[0m\u001b[0m\n\u001b[0m\u001b[0;32m    194\u001b[0m \u001b[1;33m\u001b[0m\u001b[0m\n\u001b[0;32m    195\u001b[0m         \u001b[1;32mif\u001b[0m \u001b[0mcallable\u001b[0m\u001b[1;33m(\u001b[0m\u001b[0marg\u001b[0m\u001b[1;33m)\u001b[0m\u001b[1;33m:\u001b[0m\u001b[1;33m\u001b[0m\u001b[0m\n",
        "\u001b[1;32mC:\\Users\\Lety\\Anaconda\\lib\\site-packages\\IPython\\core\\magics\\osm.pyc\u001b[0m in \u001b[0;36mwritefile\u001b[1;34m(self, line, cell)\u001b[0m\n\u001b[0;32m    737\u001b[0m \u001b[1;33m\u001b[0m\u001b[0m\n\u001b[0;32m    738\u001b[0m         \u001b[0mmode\u001b[0m \u001b[1;33m=\u001b[0m \u001b[1;34m'a'\u001b[0m \u001b[1;32mif\u001b[0m \u001b[0margs\u001b[0m\u001b[1;33m.\u001b[0m\u001b[0mappend\u001b[0m \u001b[1;32melse\u001b[0m \u001b[1;34m'w'\u001b[0m\u001b[1;33m\u001b[0m\u001b[0m\n\u001b[1;32m--> 739\u001b[1;33m         \u001b[1;32mwith\u001b[0m \u001b[0mio\u001b[0m\u001b[1;33m.\u001b[0m\u001b[0mopen\u001b[0m\u001b[1;33m(\u001b[0m\u001b[0mfilename\u001b[0m\u001b[1;33m,\u001b[0m \u001b[0mmode\u001b[0m\u001b[1;33m,\u001b[0m \u001b[0mencoding\u001b[0m\u001b[1;33m=\u001b[0m\u001b[1;34m'utf-8'\u001b[0m\u001b[1;33m)\u001b[0m \u001b[1;32mas\u001b[0m \u001b[0mf\u001b[0m\u001b[1;33m:\u001b[0m\u001b[1;33m\u001b[0m\u001b[0m\n\u001b[0m\u001b[0;32m    740\u001b[0m             \u001b[0mf\u001b[0m\u001b[1;33m.\u001b[0m\u001b[0mwrite\u001b[0m\u001b[1;33m(\u001b[0m\u001b[0mcell\u001b[0m\u001b[1;33m)\u001b[0m\u001b[1;33m\u001b[0m\u001b[0m\n",
        "\u001b[1;31mIOError\u001b[0m: [Errno 2] No such file or directory: u'temporal/mi_programa.py'"
       ]
      }
     ],
     "prompt_number": 27
    },
    {
     "cell_type": "code",
     "collapsed": false,
     "input": [
      "%run temporal/mi_programa.py"
     ],
     "language": "python",
     "metadata": {},
     "outputs": [
      {
       "output_type": "stream",
       "stream": "stderr",
       "text": [
        "ERROR: File `u'temporal/mi_programa.py'` not found.\n"
       ]
      }
     ],
     "prompt_number": 28
    },
    {
     "cell_type": "code",
     "collapsed": false,
     "input": [
      "%magic"
     ],
     "language": "python",
     "metadata": {},
     "outputs": [],
     "prompt_number": 29
    },
    {
     "cell_type": "code",
     "collapsed": false,
     "input": [
      "%lsmagic # si queremos listar todas las magics disponibles"
     ],
     "language": "python",
     "metadata": {},
     "outputs": [
      {
       "json": [
        "{\"cell\": {\"prun\": \"ExecutionMagics\", \"file\": \"Other\", \"!\": \"OSMagics\", \"capture\": \"ExecutionMagics\", \"timeit\": \"ExecutionMagics\", \"script\": \"ScriptMagics\", \"pypy\": \"Other\", \"system\": \"OSMagics\", \"perl\": \"Other\", \"HTML\": \"Other\", \"bash\": \"Other\", \"python\": \"Other\", \"SVG\": \"Other\", \"javascript\": \"DisplayMagics\", \"writefile\": \"OSMagics\", \"ruby\": \"Other\", \"python3\": \"Other\", \"python2\": \"Other\", \"latex\": \"DisplayMagics\", \"sx\": \"OSMagics\", \"svg\": \"DisplayMagics\", \"cmd\": \"Other\", \"html\": \"DisplayMagics\", \"sh\": \"Other\", \"time\": \"ExecutionMagics\", \"debug\": \"ExecutionMagics\", \"powershell\": \"Other\"}, \"line\": {\"psource\": \"NamespaceMagics\", \"logstart\": \"LoggingMagics\", \"popd\": \"OSMagics\", \"loadpy\": \"CodeMagics\", \"install_ext\": \"ExtensionMagics\", \"colors\": \"BasicMagics\", \"who_ls\": \"NamespaceMagics\", \"install_profiles\": \"DeprecatedMagics\", \"ddir\": \"Other\", \"pprint\": \"BasicMagics\", \"ldir\": \"Other\", \"ls\": \"Other\", \"save\": \"CodeMagics\", \"tb\": \"ExecutionMagics\", \"cls\": \"KernelMagics\", \"pylab\": \"PylabMagics\", \"killbgscripts\": \"ScriptMagics\", \"quickref\": \"BasicMagics\", \"echo\": \"Other\", \"magic\": \"BasicMagics\", \"dhist\": \"OSMagics\", \"edit\": \"KernelMagics\", \"logstop\": \"LoggingMagics\", \"gui\": \"BasicMagics\", \"alias_magic\": \"BasicMagics\", \"debug\": \"ExecutionMagics\", \"page\": \"BasicMagics\", \"logstate\": \"LoggingMagics\", \"ed\": \"Other\", \"pushd\": \"OSMagics\", \"timeit\": \"ExecutionMagics\", \"rehashx\": \"OSMagics\", \"hist\": \"Other\", \"ren\": \"Other\", \"qtconsole\": \"KernelMagics\", \"dirs\": \"OSMagics\", \"run\": \"ExecutionMagics\", \"reset_selective\": \"NamespaceMagics\", \"pinfo2\": \"NamespaceMagics\", \"matplotlib\": \"PylabMagics\", \"automagic\": \"AutoMagics\", \"doctest_mode\": \"KernelMagics\", \"logoff\": \"LoggingMagics\", \"reload_ext\": \"ExtensionMagics\", \"pdb\": \"ExecutionMagics\", \"load\": \"CodeMagics\", \"lsmagic\": \"BasicMagics\", \"autosave\": \"KernelMagics\", \"cd\": \"OSMagics\", \"pastebin\": \"CodeMagics\", \"prun\": \"ExecutionMagics\", \"autocall\": \"AutoMagics\", \"bookmark\": \"OSMagics\", \"connect_info\": \"KernelMagics\", \"mkdir\": \"Other\", \"system\": \"OSMagics\", \"whos\": \"NamespaceMagics\", \"rmdir\": \"Other\", \"unload_ext\": \"ExtensionMagics\", \"store\": \"StoreMagics\", \"more\": \"KernelMagics\", \"pdef\": \"NamespaceMagics\", \"precision\": \"BasicMagics\", \"pinfo\": \"NamespaceMagics\", \"pwd\": \"OSMagics\", \"psearch\": \"NamespaceMagics\", \"copy\": \"Other\", \"reset\": \"NamespaceMagics\", \"recall\": \"HistoryMagics\", \"xdel\": \"NamespaceMagics\", \"xmode\": \"BasicMagics\", \"rerun\": \"HistoryMagics\", \"logon\": \"LoggingMagics\", \"history\": \"HistoryMagics\", \"pycat\": \"OSMagics\", \"unalias\": \"OSMagics\", \"install_default_config\": \"DeprecatedMagics\", \"env\": \"OSMagics\", \"load_ext\": \"ExtensionMagics\", \"config\": \"ConfigMagics\", \"profile\": \"BasicMagics\", \"pfile\": \"NamespaceMagics\", \"less\": \"KernelMagics\", \"who\": \"NamespaceMagics\", \"notebook\": \"BasicMagics\", \"sx\": \"OSMagics\", \"macro\": \"ExecutionMagics\", \"clear\": \"KernelMagics\", \"alias\": \"OSMagics\", \"time\": \"ExecutionMagics\", \"sc\": \"OSMagics\", \"rep\": \"Other\", \"pdoc\": \"NamespaceMagics\"}}"
       ],
       "metadata": {},
       "output_type": "pyout",
       "prompt_number": 30,
       "text": [
        "Available line magics:\n",
        "%alias  %alias_magic  %autocall  %automagic  %autosave  %bookmark  %cd  %clear  %cls  %colors  %config  %connect_info  %copy  %ddir  %debug  %dhist  %dirs  %doctest_mode  %echo  %ed  %edit  %env  %gui  %hist  %history  %install_default_config  %install_ext  %install_profiles  %killbgscripts  %ldir  %less  %load  %load_ext  %loadpy  %logoff  %logon  %logstart  %logstate  %logstop  %ls  %lsmagic  %macro  %magic  %matplotlib  %mkdir  %more  %notebook  %page  %pastebin  %pdb  %pdef  %pdoc  %pfile  %pinfo  %pinfo2  %popd  %pprint  %precision  %profile  %prun  %psearch  %psource  %pushd  %pwd  %pycat  %pylab  %qtconsole  %quickref  %recall  %rehashx  %reload_ext  %ren  %rep  %rerun  %reset  %reset_selective  %rmdir  %run  %save  %sc  %store  %sx  %system  %tb  %time  %timeit  %unalias  %unload_ext  %who  %who_ls  %whos  %xdel  %xmode\n",
        "\n",
        "Available cell magics:\n",
        "%%!  %%HTML  %%SVG  %%bash  %%capture  %%cmd  %%debug  %%file  %%html  %%javascript  %%latex  %%perl  %%powershell  %%prun  %%pypy  %%python  %%python2  %%python3  %%ruby  %%script  %%sh  %%svg  %%sx  %%system  %%time  %%timeit  %%writefile\n",
        "\n",
        "Automagic is ON, % prefix IS NOT needed for line magics."
       ]
      }
     ],
     "prompt_number": 30
    },
    {
     "cell_type": "code",
     "collapsed": false,
     "input": [
      "%quickref # referencia r\u00e1pida"
     ],
     "language": "python",
     "metadata": {},
     "outputs": [],
     "prompt_number": 31
    },
    {
     "cell_type": "code",
     "collapsed": false,
     "input": [
      "quickref # si %automagic est\u00e1 ON"
     ],
     "language": "python",
     "metadata": {},
     "outputs": [],
     "prompt_number": 32
    },
    {
     "cell_type": "code",
     "collapsed": false,
     "input": [
      "%timeit?"
     ],
     "language": "python",
     "metadata": {},
     "outputs": [],
     "prompt_number": 33
    },
    {
     "cell_type": "code",
     "collapsed": false,
     "input": [
      "m = np.random.randn(100, 100) # matriz de n\u00fameros aleatorios de 100 x 100"
     ],
     "language": "python",
     "metadata": {},
     "outputs": [],
     "prompt_number": 34
    },
    {
     "cell_type": "code",
     "collapsed": false,
     "input": [
      "m"
     ],
     "language": "python",
     "metadata": {},
     "outputs": [
      {
       "metadata": {},
       "output_type": "pyout",
       "prompt_number": 35,
       "text": [
        "array([[-0.44863441, -0.25875518,  1.50570269, ..., -1.13849117,\n",
        "        -1.16600295,  0.8714418 ],\n",
        "       [-0.92602771,  0.11377042, -0.40383824, ...,  0.58760438,\n",
        "        -0.38117365, -0.02076139],\n",
        "       [-0.33060852,  0.39656808,  0.01200754, ..., -0.17214501,\n",
        "        -0.396896  , -0.42889109],\n",
        "       ..., \n",
        "       [-0.77968284,  0.31868043,  1.70964993, ..., -1.27470082,\n",
        "         0.2677345 ,  0.17853736],\n",
        "       [-0.1232748 ,  1.22423702, -0.37779766, ..., -0.15675103,\n",
        "         0.23873217,  2.76280282],\n",
        "       [ 0.40621774,  2.16704551,  2.35005228, ...,  0.76650633,\n",
        "         1.86989183, -1.94077488]])"
       ]
      }
     ],
     "prompt_number": 35
    },
    {
     "cell_type": "code",
     "collapsed": false,
     "input": [
      "%timeit np.dot(m, m) # multiplicaci\u00f3n vectorial de matrices"
     ],
     "language": "python",
     "metadata": {},
     "outputs": [
      {
       "output_type": "stream",
       "stream": "stdout",
       "text": [
        "1 loops, best of 3: 89.2 \u00b5s per loop\n"
       ]
      }
     ],
     "prompt_number": 36
    },
    {
     "cell_type": "code",
     "collapsed": false,
     "input": [
      "%timeit -n 100 -r 10 np.dot(m, m) # las magics aceptan par\u00e1metros"
     ],
     "language": "python",
     "metadata": {},
     "outputs": [
      {
       "output_type": "stream",
       "stream": "stdout",
       "text": [
        "100 loops, best of 10: 106 \u00b5s per loop\n"
       ]
      }
     ],
     "prompt_number": 37
    },
    {
     "cell_type": "code",
     "collapsed": false,
     "input": [
      "%who"
     ],
     "language": "python",
     "metadata": {},
     "outputs": [
      {
       "output_type": "stream",
       "stream": "stdout",
       "text": [
        "Audio\t CustomPlot\t Fa\t Facundo\t FileLinks\t HTML\t Image\t Math\t Video\t \n",
        "YouTubeVideo\t a\t clear_output\t data\t datetime\t display\t figsize\t html_link\t lista\t \n",
        "m\t nbviewer\t np\t os\t pd\t plot_audio\t plt\t prefix\t randn\t \n",
        "simple_link\t suma\t website\t \n"
       ]
      }
     ],
     "prompt_number": 38
    },
    {
     "cell_type": "code",
     "collapsed": false,
     "input": [
      "%who_ls"
     ],
     "language": "python",
     "metadata": {},
     "outputs": [
      {
       "metadata": {},
       "output_type": "pyout",
       "prompt_number": 39,
       "text": [
        "['Audio',\n",
        " 'CustomPlot',\n",
        " 'Fa',\n",
        " 'Facundo',\n",
        " 'FileLinks',\n",
        " 'HTML',\n",
        " 'Image',\n",
        " 'Math',\n",
        " 'Video',\n",
        " 'YouTubeVideo',\n",
        " 'a',\n",
        " 'clear_output',\n",
        " 'data',\n",
        " 'datetime',\n",
        " 'display',\n",
        " 'figsize',\n",
        " 'html_link',\n",
        " 'lista',\n",
        " 'm',\n",
        " 'nbviewer',\n",
        " 'np',\n",
        " 'os',\n",
        " 'pd',\n",
        " 'plot_audio',\n",
        " 'plt',\n",
        " 'prefix',\n",
        " 'randn',\n",
        " 'simple_link',\n",
        " 'suma',\n",
        " 'website']"
       ]
      }
     ],
     "prompt_number": 39
    },
    {
     "cell_type": "code",
     "collapsed": false,
     "input": [
      "%whos"
     ],
     "language": "python",
     "metadata": {},
     "outputs": [
      {
       "output_type": "stream",
       "stream": "stdout",
       "text": [
        "Variable       Type                          Data/Info\n",
        "------------------------------------------------------\n",
        "Audio          type                          <class 'IPython.lib.display.Audio'>\n",
        "CustomPlot     function                      <function CustomPlot at 0x000000000C96B518>\n",
        "Fa             int                           4\n",
        "Facundo        int                           1\n",
        "FileLinks      type                          <class 'IPython.lib.display.FileLinks'>\n",
        "HTML           type                          <class 'IPython.core.display.HTML'>\n",
        "Image          type                          <class 'IPython.core.display.Image'>\n",
        "Math           type                          <class 'IPython.core.display.Math'>\n",
        "Video          function                      <function Video at 0x000000000C96B438>\n",
        "YouTubeVideo   type                          <class 'IPython.lib.display.YouTubeVideo'>\n",
        "a              int                           1\n",
        "clear_output   function                      <function clear_output at 0x0000000003117C18>\n",
        "data           dict                          n=7\n",
        "datetime       module                        <module 'datetime' (built-in)>\n",
        "display        function                      <function display at 0x0000000003117048>\n",
        "figsize        function                      <function figsize at 0x00000000031996D8>\n",
        "html_link      function                      <function html_link at 0x000000000C96B358>\n",
        "lista          list                          n=5\n",
        "m              ndarray                       100Lx100L: 10000 elems, type `float64`, 80000 bytes\n",
        "nbviewer       function                      <function nbviewer at 0x000000000C96B3C8>\n",
        "np             module                        <module 'numpy' from 'C:\\<...>ages\\numpy\\__init__.pyc'>\n",
        "os             module                        <module 'os' from 'C:\\Use<...>ety\\Anaconda\\lib\\os.pyc'>\n",
        "pd             module                        <module 'pandas' from 'C:<...>ges\\pandas\\__init__.pyc'>\n",
        "plot_audio     function                      <function plot_audio at 0x000000000C96B4A8>\n",
        "plt            module                        <module 'matplotlib.pyplo<...>s\\matplotlib\\pyplot.pyc'>\n",
        "prefix         function                      <function prefix at 0x000000000C96B2E8>\n",
        "randn          builtin_function_or_method    <built-in method randn of<...>ct at 0x000000000459F5C0>\n",
        "simple_link    function                      <function simple_link at 0x000000000C96B278>\n",
        "suma           function                      <function suma at 0x00000000041BD978>\n",
        "website        function                      <function website at 0x000000000C96B208>\n"
       ]
      }
     ],
     "prompt_number": 40
    },
    {
     "cell_type": "code",
     "collapsed": false,
     "input": [
      "%xdel resultado\n",
      "%who"
     ],
     "language": "python",
     "metadata": {},
     "outputs": [
      {
       "output_type": "stream",
       "stream": "stdout",
       "text": [
        "NameError: name 'resultado' is not defined\n",
        "Audio\t CustomPlot\t Fa\t Facundo\t FileLinks\t HTML\t Image\t Math\t Video\t \n",
        "YouTubeVideo\t a\t clear_output\t data\t datetime\t display\t figsize\t html_link\t lista\t \n",
        "m\t nbviewer\t np\t os\t pd\t plot_audio\t plt\t prefix\t randn\t \n",
        "simple_link\t suma\t website\t \n"
       ]
      }
     ],
     "prompt_number": 41
    },
    {
     "cell_type": "code",
     "collapsed": false,
     "input": [
      "%reset"
     ],
     "language": "python",
     "metadata": {},
     "outputs": [
      {
       "name": "stdout",
       "output_type": "stream",
       "stream": "stdout",
       "text": [
        "Once deleted, variables cannot be recovered. Proceed (y/[n])? y\n"
       ]
      }
     ],
     "prompt_number": 42
    },
    {
     "cell_type": "code",
     "collapsed": false,
     "input": [
      "m"
     ],
     "language": "python",
     "metadata": {},
     "outputs": [
      {
       "ename": "NameError",
       "evalue": "name 'm' is not defined",
       "output_type": "pyerr",
       "traceback": [
        "\u001b[1;31m---------------------------------------------------------------------------\u001b[0m\n\u001b[1;31mNameError\u001b[0m                                 Traceback (most recent call last)",
        "\u001b[1;32m<ipython-input-43-69b64623f86d>\u001b[0m in \u001b[0;36m<module>\u001b[1;34m()\u001b[0m\n\u001b[1;32m----> 1\u001b[1;33m \u001b[0mm\u001b[0m\u001b[1;33m\u001b[0m\u001b[0m\n\u001b[0m",
        "\u001b[1;31mNameError\u001b[0m: name 'm' is not defined"
       ]
      }
     ],
     "prompt_number": 43
    },
    {
     "cell_type": "code",
     "collapsed": false,
     "input": [
      "%qtconsole"
     ],
     "language": "python",
     "metadata": {},
     "outputs": [],
     "prompt_number": 44
    },
    {
     "cell_type": "code",
     "collapsed": false,
     "input": [
      "%matplotlib"
     ],
     "language": "python",
     "metadata": {},
     "outputs": [
      {
       "output_type": "stream",
       "stream": "stdout",
       "text": [
        "Using matplotlib backend: Qt4Agg\n"
       ]
      }
     ],
     "prompt_number": 45
    },
    {
     "cell_type": "code",
     "collapsed": false,
     "input": [
      "2**4"
     ],
     "language": "python",
     "metadata": {},
     "outputs": [
      {
       "metadata": {},
       "output_type": "pyout",
       "prompt_number": 46,
       "text": [
        "16"
       ]
      }
     ],
     "prompt_number": 46
    },
    {
     "cell_type": "code",
     "collapsed": false,
     "input": [
      "_"
     ],
     "language": "python",
     "metadata": {},
     "outputs": [
      {
       "metadata": {},
       "output_type": "pyout",
       "prompt_number": 47,
       "text": [
        "16"
       ]
      }
     ],
     "prompt_number": 47
    },
    {
     "cell_type": "code",
     "collapsed": false,
     "input": [
      "foo = \"bar\"\n",
      "foo"
     ],
     "language": "python",
     "metadata": {},
     "outputs": [
      {
       "metadata": {},
       "output_type": "pyout",
       "prompt_number": 48,
       "text": [
        "'bar'"
       ]
      }
     ],
     "prompt_number": 48
    },
    {
     "cell_type": "code",
     "collapsed": false,
     "input": [
      "i50"
     ],
     "language": "python",
     "metadata": {},
     "outputs": [
      {
       "ename": "NameError",
       "evalue": "name 'i50' is not defined",
       "output_type": "pyerr",
       "traceback": [
        "\u001b[1;31m---------------------------------------------------------------------------\u001b[0m\n\u001b[1;31mNameError\u001b[0m                                 Traceback (most recent call last)",
        "\u001b[1;32m<ipython-input-49-c20cd560636c>\u001b[0m in \u001b[0;36m<module>\u001b[1;34m()\u001b[0m\n\u001b[1;32m----> 1\u001b[1;33m \u001b[0mi50\u001b[0m\u001b[1;33m\u001b[0m\u001b[0m\n\u001b[0m",
        "\u001b[1;31mNameError\u001b[0m: name 'i50' is not defined"
       ]
      }
     ],
     "prompt_number": 49
    },
    {
     "cell_type": "code",
     "collapsed": false,
     "input": [
      "_50"
     ],
     "language": "python",
     "metadata": {},
     "outputs": [
      {
       "ename": "NameError",
       "evalue": "name '_50' is not defined",
       "output_type": "pyerr",
       "traceback": [
        "\u001b[1;31m---------------------------------------------------------------------------\u001b[0m\n\u001b[1;31mNameError\u001b[0m                                 Traceback (most recent call last)",
        "\u001b[1;32m<ipython-input-50-4ce25d5218b7>\u001b[0m in \u001b[0;36m<module>\u001b[1;34m()\u001b[0m\n\u001b[1;32m----> 1\u001b[1;33m \u001b[0m_50\u001b[0m\u001b[1;33m\u001b[0m\u001b[0m\n\u001b[0m",
        "\u001b[1;31mNameError\u001b[0m: name '_50' is not defined"
       ]
      }
     ],
     "prompt_number": 50
    },
    {
     "cell_type": "code",
     "collapsed": false,
     "input": [
      "foo = \"baz\"\n",
      "foo"
     ],
     "language": "python",
     "metadata": {},
     "outputs": [
      {
       "metadata": {},
       "output_type": "pyout",
       "prompt_number": 51,
       "text": [
        "'baz'"
       ]
      }
     ],
     "prompt_number": 51
    },
    {
     "cell_type": "code",
     "collapsed": false,
     "input": [
      "exec _i50"
     ],
     "language": "python",
     "metadata": {},
     "outputs": [
      {
       "ename": "NameError",
       "evalue": "name '_50' is not defined",
       "output_type": "pyerr",
       "traceback": [
        "\u001b[1;31m---------------------------------------------------------------------------\u001b[0m\n\u001b[1;31mNameError\u001b[0m                                 Traceback (most recent call last)",
        "\u001b[1;32m<ipython-input-52-b4985ada30b7>\u001b[0m in \u001b[0;36m<module>\u001b[1;34m()\u001b[0m\n\u001b[1;32m----> 1\u001b[1;33m \u001b[1;32mexec\u001b[0m \u001b[0m_i50\u001b[0m\u001b[1;33m\u001b[0m\u001b[0m\n\u001b[0m",
        "\u001b[1;32m<string>\u001b[0m in \u001b[0;36m<module>\u001b[1;34m()\u001b[0m\n",
        "\u001b[1;31mNameError\u001b[0m: name '_50' is not defined"
       ]
      }
     ],
     "prompt_number": 52
    },
    {
     "cell_type": "code",
     "collapsed": false,
     "input": [
      "foo"
     ],
     "language": "python",
     "metadata": {},
     "outputs": [
      {
       "metadata": {},
       "output_type": "pyout",
       "prompt_number": 54,
       "text": [
        "'baz'"
       ]
      }
     ],
     "prompt_number": 54
    },
    {
     "cell_type": "code",
     "collapsed": false,
     "input": [
      "pwd "
     ],
     "language": "python",
     "metadata": {},
     "outputs": [
      {
       "metadata": {},
       "output_type": "pyout",
       "prompt_number": 55,
       "text": [
        "u'C:\\\\Users\\\\Lety\\\\Documents\\\\IPython Notebooks\\\\lania.ipython\\\\Dia2\\\\notebooks'"
       ]
      }
     ],
     "prompt_number": 55
    },
    {
     "cell_type": "code",
     "collapsed": false,
     "input": [
      "mes = !cal"
     ],
     "language": "python",
     "metadata": {},
     "outputs": [],
     "prompt_number": 56
    },
    {
     "cell_type": "code",
     "collapsed": false,
     "input": [
      "este_mes = mes[0]\n",
      "este_mes"
     ],
     "language": "python",
     "metadata": {},
     "outputs": [
      {
       "metadata": {},
       "output_type": "pyout",
       "prompt_number": 57,
       "text": [
        "'\"cal\" no se reconoce como un comando interno o externo,'"
       ]
      }
     ],
     "prompt_number": 57
    },
    {
     "cell_type": "code",
     "collapsed": false,
     "input": [
      "ipy_notebooks = '*.ipynb'"
     ],
     "language": "python",
     "metadata": {},
     "outputs": [],
     "prompt_number": 58
    },
    {
     "cell_type": "code",
     "collapsed": false,
     "input": [
      "!dir"
     ],
     "language": "python",
     "metadata": {},
     "outputs": [
      {
       "output_type": "stream",
       "stream": "stdout",
       "text": [
        " El volumen de la unidad C no tiene etiqueta.\n",
        " El n\u00a3mero de serie del volumen es: 1AA8-AC3A\n",
        "\n",
        " Directorio de C:\\Users\\Lore\\Documents\\IPython Notebooks\\lania.ipython\\Dia2\\notebooks\n",
        "\n",
        "13/11/2014  20:55    <DIR>          .\n",
        "13/11/2014  20:55    <DIR>          ..\n",
        "13/11/2014  20:34    <DIR>          .ipynb_checkpoints\n",
        "08/11/2014  12:34                 0 archivonuevogenial.txt\n",
        "11/11/2014  22:22                74 hola_clase.py\n",
        "11/11/2014  22:33                77 hola_clase_espa.py\n",
        "08/11/2014  11:06            18.045 Lib01_Esenciales_Python.ipynb\n",
        "08/11/2014  13:04            14.215 Lib02_Esenciales_DataStructures.ipynb\n",
        "08/11/2014  11:51            18.623 Lib03_Esenciales_DataStructures.ipynb\n",
        "08/11/2014  13:11            40.860 Lib04_Esenciales_TextFiles.ipynb\n",
        "10/11/2014  20:33            45.044 Lib05_Ejercicios01.ipynb\n",
        "10/11/2014  20:34            62.457 Lib05_LorenaRivera_Ejercicios01.ipynb\n",
        "10/11/2014  20:56            21.991 Lib06_Ejercicios02.ipynb\n",
        "10/11/2014  20:58            26.743 Lib06_LorenaRivera_Ejercicios02.ipynb\n",
        "12/11/2014  22:27           114.758 Lib07_Ejercicios03.ipynb\n",
        "12/11/2014  22:27            81.951 Lib07_LorenaRivera_Ejercicios03.ipynb\n",
        "01/11/2014  11:31            44.576 Lib08_Ejercicios04.ipynb\n",
        "13/11/2014  21:22            34.996 Lib08_LorenaRivera_Ejercicios04.ipynb\n",
        "01/11/2014  11:31            81.495 Lib09_ProcesandoDatos01.ipynb\n",
        "01/11/2014  11:31            28.021 Lib10_GraficandoDatos.ipynb\n",
        "01/11/2014  11:31         1.676.419 Lib11_ArchivosCSV.ipynb\n",
        "01/11/2014  11:31           148.399 Lib12_pandas.ipynb\n",
        "12/11/2014  22:22               614 mimodulo.py\n",
        "12/11/2014  22:22             1.115 mimodulo.pyc\n",
        "13/11/2014  20:47    <DIR>          scripts\n",
        "13/11/2014  20:56    <DIR>          temporal\n",
        "08/11/2014  09:35             6.588 Untitled0.ipynb\n",
        "              22 archivos      2.467.061 bytes\n",
        "               5 dirs   8.108.826.624 bytes libres\n"
       ]
      }
     ],
     "prompt_number": 40
    },
    {
     "cell_type": "code",
     "collapsed": false,
     "input": [
      "!dir $ipy_notebooks"
     ],
     "language": "python",
     "metadata": {},
     "outputs": [
      {
       "output_type": "stream",
       "stream": "stdout",
       "text": [
        " El volumen de la unidad C no tiene etiqueta.\n",
        " El n\u00a3mero de serie del volumen es: 8AAF-948E\n",
        "\n",
        " Directorio de C:\\Users\\Lety\\Documents\\IPython Notebooks\\lania.ipython\\Dia2\\notebooks\n",
        "\n",
        "15/11/2014  09:45 a.m.            17,581 Lib01_Esenciales_Python.ipynb\n",
        "15/11/2014  09:45 a.m.            15,229 Lib02_Esenciales_DataStructures.ipynb\n",
        "15/11/2014  09:45 a.m.            15,797 Lib03_Esenciales_DataStructures.ipynb\n",
        "15/11/2014  09:45 a.m.            41,011 Lib04_Esenciales_TextFiles.ipynb\n",
        "15/11/2014  09:45 a.m.            69,435 Lib05Dia2_Ejercicios01_Sedas_Vargas_Leticia.ipynb\n",
        "15/11/2014  09:45 a.m.            44,994 Lib05_Ejercicios01.ipynb\n",
        "15/11/2014  09:45 a.m.            17,882 Lib06Dia2_Ejercicios02_Sedas_Vargas_Leticia.ipynb\n",
        "15/11/2014  09:45 a.m.            21,537 Lib06_Ejercicios02.ipynb\n",
        "26/11/2014  09:22 p.m.            73,744 Lib07Dia2_Ejercicios03_Sedas_Vargas_Leticia.ipynb\n",
        "15/11/2014  09:45 a.m.           114,907 Lib07_Ejercicios03.ipynb\n",
        "26/11/2014  09:26 p.m.            63,716 Lib08Dia2_Ejercicios04_Sedas_Vargas_Leticia.ipynb\n",
        "04/11/2014  10:13 p.m.            44,576 Lib08_Ejercicios04.ipynb\n",
        "15/11/2014  09:45 a.m.            84,064 Lib09_ProcesandoDatos01.ipynb\n",
        "15/11/2014  09:45 a.m.            28,021 Lib10_GraficandoDatos.ipynb\n",
        "15/11/2014  09:45 a.m.         1,676,419 Lib11_ArchivosCSV.ipynb\n",
        "15/11/2014  09:45 a.m.           148,399 Lib12_pandas.ipynb\n",
        "              16 archivos      2,477,312 bytes\n",
        "               0 dirs  134,521,151,488 bytes libres\n"
       ]
      }
     ],
     "prompt_number": 59
    },
    {
     "cell_type": "code",
     "collapsed": false,
     "input": [
      "%alias ld dir"
     ],
     "language": "python",
     "metadata": {},
     "outputs": [],
     "prompt_number": 60
    },
    {
     "cell_type": "code",
     "collapsed": false,
     "input": [
      "ld"
     ],
     "language": "python",
     "metadata": {},
     "outputs": [
      {
       "output_type": "stream",
       "stream": "stdout",
       "text": [
        " El volumen de la unidad C no tiene etiqueta.\n",
        " El n\u00a3mero de serie del volumen es: 8AAF-948E\n",
        "\n",
        " Directorio de C:\\Users\\Lety\\Documents\\IPython Notebooks\\lania.ipython\\Dia2\\notebooks\n",
        "\n",
        "15/11/2014  09:54 a.m.    <DIR>          .\n",
        "15/11/2014  09:54 a.m.    <DIR>          ..\n",
        "15/11/2014  09:54 a.m.    <DIR>          .ipynb_checkpoints\n",
        "15/11/2014  09:45 a.m.                13 archivonuevogenial.txt\n",
        "15/11/2014  09:45 a.m.                50 hola_clase.py\n",
        "15/11/2014  09:45 a.m.                29 hola_clase_espa.py\n",
        "15/11/2014  09:45 a.m.            17,581 Lib01_Esenciales_Python.ipynb\n",
        "15/11/2014  09:45 a.m.            15,229 Lib02_Esenciales_DataStructures.ipynb\n",
        "15/11/2014  09:45 a.m.            15,797 Lib03_Esenciales_DataStructures.ipynb\n",
        "15/11/2014  09:45 a.m.            41,011 Lib04_Esenciales_TextFiles.ipynb\n",
        "15/11/2014  09:45 a.m.            69,435 Lib05Dia2_Ejercicios01_Sedas_Vargas_Leticia.ipynb\n",
        "15/11/2014  09:45 a.m.            44,994 Lib05_Ejercicios01.ipynb\n",
        "15/11/2014  09:45 a.m.            17,882 Lib06Dia2_Ejercicios02_Sedas_Vargas_Leticia.ipynb\n",
        "15/11/2014  09:45 a.m.            21,537 Lib06_Ejercicios02.ipynb\n",
        "26/11/2014  09:22 p.m.            73,744 Lib07Dia2_Ejercicios03_Sedas_Vargas_Leticia.ipynb\n",
        "15/11/2014  09:45 a.m.           114,907 Lib07_Ejercicios03.ipynb\n",
        "26/11/2014  09:26 p.m.            63,716 Lib08Dia2_Ejercicios04_Sedas_Vargas_Leticia.ipynb\n",
        "04/11/2014  10:13 p.m.            44,576 Lib08_Ejercicios04.ipynb\n",
        "15/11/2014  09:45 a.m.            84,064 Lib09_ProcesandoDatos01.ipynb\n",
        "15/11/2014  09:45 a.m.            28,021 Lib10_GraficandoDatos.ipynb\n",
        "15/11/2014  09:45 a.m.         1,676,419 Lib11_ArchivosCSV.ipynb\n",
        "15/11/2014  09:45 a.m.           148,399 Lib12_pandas.ipynb\n",
        "26/11/2014  09:18 p.m.               612 mimodulo.py\n",
        "              20 archivos      2,478,016 bytes\n",
        "               3 dirs  134,521,151,488 bytes libres\n"
       ]
      }
     ],
     "prompt_number": 65
    },
    {
     "cell_type": "code",
     "collapsed": false,
     "input": [
      "%alias l_datos (cd /scripts; dir)"
     ],
     "language": "python",
     "metadata": {},
     "outputs": [],
     "prompt_number": 61
    },
    {
     "cell_type": "code",
     "collapsed": false,
     "input": [
      "l_datos2"
     ],
     "language": "python",
     "metadata": {},
     "outputs": [
      {
       "ename": "NameError",
       "evalue": "name 'l_datos2' is not defined",
       "output_type": "pyerr",
       "traceback": [
        "\u001b[1;31m---------------------------------------------------------------------------\u001b[0m\n\u001b[1;31mNameError\u001b[0m                                 Traceback (most recent call last)",
        "\u001b[1;32m<ipython-input-62-8427a82a62bf>\u001b[0m in \u001b[0;36m<module>\u001b[1;34m()\u001b[0m\n\u001b[1;32m----> 1\u001b[1;33m \u001b[0ml_datos2\u001b[0m\u001b[1;33m\u001b[0m\u001b[0m\n\u001b[0m",
        "\u001b[1;31mNameError\u001b[0m: name 'l_datos2' is not defined"
       ]
      }
     ],
     "prompt_number": 62
    },
    {
     "cell_type": "code",
     "collapsed": false,
     "input": [
      "%cd datos"
     ],
     "language": "python",
     "metadata": {},
     "outputs": [
      {
       "output_type": "stream",
       "stream": "stdout",
       "text": [
        "[Error 2] El sistema no puede encontrar el archivo especificado: u'datos'\n",
        "C:\\Users\\Lety\\Documents\\IPython Notebooks\\lania.ipython\\Dia2\\notebooks\n"
       ]
      }
     ],
     "prompt_number": 63
    },
    {
     "cell_type": "code",
     "collapsed": false,
     "input": [
      "!dir"
     ],
     "language": "python",
     "metadata": {},
     "outputs": [
      {
       "output_type": "stream",
       "stream": "stdout",
       "text": [
        " El volumen de la unidad C no tiene etiqueta.\n",
        " El n\u00a3mero de serie del volumen es: 8AAF-948E\n",
        "\n",
        " Directorio de C:\\Users\\Lety\\Documents\\IPython Notebooks\\lania.ipython\\Dia2\\notebooks\n",
        "\n",
        "15/11/2014  09:54 a.m.    <DIR>          .\n",
        "15/11/2014  09:54 a.m.    <DIR>          ..\n",
        "15/11/2014  09:54 a.m.    <DIR>          .ipynb_checkpoints\n",
        "15/11/2014  09:45 a.m.                13 archivonuevogenial.txt\n",
        "15/11/2014  09:45 a.m.                50 hola_clase.py\n",
        "15/11/2014  09:45 a.m.                29 hola_clase_espa.py\n",
        "15/11/2014  09:45 a.m.            17,581 Lib01_Esenciales_Python.ipynb\n",
        "15/11/2014  09:45 a.m.            15,229 Lib02_Esenciales_DataStructures.ipynb\n",
        "15/11/2014  09:45 a.m.            15,797 Lib03_Esenciales_DataStructures.ipynb\n",
        "15/11/2014  09:45 a.m.            41,011 Lib04_Esenciales_TextFiles.ipynb\n",
        "15/11/2014  09:45 a.m.            69,435 Lib05Dia2_Ejercicios01_Sedas_Vargas_Leticia.ipynb\n",
        "15/11/2014  09:45 a.m.            44,994 Lib05_Ejercicios01.ipynb\n",
        "15/11/2014  09:45 a.m.            17,882 Lib06Dia2_Ejercicios02_Sedas_Vargas_Leticia.ipynb\n",
        "15/11/2014  09:45 a.m.            21,537 Lib06_Ejercicios02.ipynb\n",
        "26/11/2014  09:22 p.m.            73,744 Lib07Dia2_Ejercicios03_Sedas_Vargas_Leticia.ipynb\n",
        "15/11/2014  09:45 a.m.           114,907 Lib07_Ejercicios03.ipynb\n",
        "26/11/2014  09:26 p.m.            63,716 Lib08Dia2_Ejercicios04_Sedas_Vargas_Leticia.ipynb\n",
        "04/11/2014  10:13 p.m.            44,576 Lib08_Ejercicios04.ipynb\n",
        "15/11/2014  09:45 a.m.            84,064 Lib09_ProcesandoDatos01.ipynb\n",
        "15/11/2014  09:45 a.m.            28,021 Lib10_GraficandoDatos.ipynb\n",
        "15/11/2014  09:45 a.m.         1,676,419 Lib11_ArchivosCSV.ipynb\n",
        "15/11/2014  09:45 a.m.           148,399 Lib12_pandas.ipynb\n",
        "26/11/2014  09:18 p.m.               612 mimodulo.py\n",
        "              20 archivos      2,478,016 bytes\n",
        "               3 dirs  134,521,151,488 bytes libres\n"
       ]
      }
     ],
     "prompt_number": 64
    },
    {
     "cell_type": "code",
     "collapsed": false,
     "input": [],
     "language": "python",
     "metadata": {},
     "outputs": []
    }
   ],
   "metadata": {}
  }
 ]
}