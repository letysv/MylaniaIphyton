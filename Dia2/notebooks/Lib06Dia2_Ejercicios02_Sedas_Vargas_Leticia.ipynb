{
 "metadata": {
  "name": "",
  "signature": "sha256:8a67fe658afeaecbc1801a6a8aaf3e4109f2231cc04a8bac3266cbb6d43f2325"
 },
 "nbformat": 3,
 "nbformat_minor": 0,
 "worksheets": [
  {
   "cells": [
    {
     "cell_type": "code",
     "collapsed": false,
     "input": [
      "len('No le creas nada a mi mente dise\u00f1ada por los medios')"
     ],
     "language": "python",
     "metadata": {},
     "outputs": [
      {
       "metadata": {},
       "output_type": "pyout",
       "prompt_number": 1,
       "text": [
        "52"
       ]
      }
     ],
     "prompt_number": 1
    },
    {
     "cell_type": "code",
     "collapsed": false,
     "input": [
      "'   No le creas nada a mi mente   '.strip()"
     ],
     "language": "python",
     "metadata": {},
     "outputs": [
      {
       "metadata": {},
       "output_type": "pyout",
       "prompt_number": 2,
       "text": [
        "'No le creas nada a mi mente'"
       ]
      }
     ],
     "prompt_number": 2
    },
    {
     "cell_type": "code",
     "collapsed": false,
     "input": [
      "'No le creas nada a mi mente dise\u00f1ada por los medios'.replace('nada','mucho')"
     ],
     "language": "python",
     "metadata": {},
     "outputs": [
      {
       "metadata": {},
       "output_type": "pyout",
       "prompt_number": 3,
       "text": [
        "'No le creas mucho a mi mente dise\\xc3\\xb1ada por los medios'"
       ]
      }
     ],
     "prompt_number": 3
    },
    {
     "cell_type": "code",
     "collapsed": false,
     "input": [
      "'Hay %s que se cierran pero se destacan' % 'ciatrices'"
     ],
     "language": "python",
     "metadata": {},
     "outputs": [
      {
       "metadata": {},
       "output_type": "pyout",
       "prompt_number": 4,
       "text": [
        "'Hay ciatrices que se cierran pero se destacan'"
       ]
      }
     ],
     "prompt_number": 4
    },
    {
     "cell_type": "code",
     "collapsed": false,
     "input": [
      "'Hay demasiadas formas de morir.'.startswith('H')"
     ],
     "language": "python",
     "metadata": {},
     "outputs": [
      {
       "metadata": {},
       "output_type": "pyout",
       "prompt_number": 5,
       "text": [
        "True"
       ]
      }
     ],
     "prompt_number": 5
    },
    {
     "cell_type": "code",
     "collapsed": false,
     "input": [
      "'para terminar ba\u00f1\u00e1ndonos en la azotea '.count('en')"
     ],
     "language": "python",
     "metadata": {},
     "outputs": [
      {
       "metadata": {},
       "output_type": "pyout",
       "prompt_number": 6,
       "text": [
        "1"
       ]
      }
     ],
     "prompt_number": 6
    },
    {
     "cell_type": "code",
     "collapsed": false,
     "input": [
      "' ;) '.join([\n",
      "    'Bienvenidos al curso de RySi 2014', \n",
      "    'donde aprender\u00e1n a usar un poco de Python',\n",
      "])"
     ],
     "language": "python",
     "metadata": {},
     "outputs": [
      {
       "metadata": {},
       "output_type": "pyout",
       "prompt_number": 7,
       "text": [
        "'Bienvenidos al curso de RySi 2014 ;) donde aprender\\xc3\\xa1n a usar un poco de Python'"
       ]
      }
     ],
     "prompt_number": 7
    },
    {
     "cell_type": "code",
     "collapsed": false,
     "input": [
      "'las piernas cruzadas, las manos en el regazo'.split(', ')"
     ],
     "language": "python",
     "metadata": {},
     "outputs": [
      {
       "metadata": {},
       "output_type": "pyout",
       "prompt_number": 8,
       "text": [
        "['las piernas cruzadas', 'las manos en el regazo']"
       ]
      }
     ],
     "prompt_number": 8
    },
    {
     "cell_type": "code",
     "collapsed": false,
     "input": [
      "palabras = 'No soy en ello diferente a la mayor parte de los seres humanos'.split()\n",
      "['*%s*' % x for x in palabras]"
     ],
     "language": "python",
     "metadata": {},
     "outputs": [
      {
       "metadata": {},
       "output_type": "pyout",
       "prompt_number": 9,
       "text": [
        "['*No*',\n",
        " '*soy*',\n",
        " '*en*',\n",
        " '*ello*',\n",
        " '*diferente*',\n",
        " '*a*',\n",
        " '*la*',\n",
        " '*mayor*',\n",
        " '*parte*',\n",
        " '*de*',\n",
        " '*los*',\n",
        " '*seres*',\n",
        " '*humanos*']"
       ]
      }
     ],
     "prompt_number": 9
    },
    {
     "cell_type": "code",
     "collapsed": false,
     "input": [
      "len('No soy en ello diferente a la mayor parte de los seres humanos')"
     ],
     "language": "python",
     "metadata": {},
     "outputs": [
      {
       "metadata": {},
       "output_type": "pyout",
       "prompt_number": 10,
       "text": [
        "62"
       ]
      }
     ],
     "prompt_number": 10
    },
    {
     "cell_type": "code",
     "collapsed": false,
     "input": [
      "len(['*No*',\n",
      " '*soy*',\n",
      " '*en*',\n",
      " '*ello*',\n",
      " '*diferente*',\n",
      " '*a*',\n",
      " '*la*',\n",
      " '*mayor*',\n",
      " '*parte*',\n",
      " '*de*',\n",
      " '*los*',\n",
      " '*seres*',\n",
      " '*humanos*'])"
     ],
     "language": "python",
     "metadata": {},
     "outputs": [
      {
       "metadata": {},
       "output_type": "pyout",
       "prompt_number": 11,
       "text": [
        "13"
       ]
      }
     ],
     "prompt_number": 11
    },
    {
     "cell_type": "code",
     "collapsed": false,
     "input": [
      "codigoPorEstado = {'Aguascalientes': 'AGU', \n",
      "             'Sonora': 'SON', \n",
      "             'Oaxaca': 'OAX', \n",
      "             'Veracruz': 'VER'}\n",
      "codigoPorEstado"
     ],
     "language": "python",
     "metadata": {},
     "outputs": [
      {
       "metadata": {},
       "output_type": "pyout",
       "prompt_number": 12,
       "text": [
        "{'Aguascalientes': 'AGU', 'Oaxaca': 'OAX', 'Sonora': 'SON', 'Veracruz': 'VER'}"
       ]
      }
     ],
     "prompt_number": 12
    },
    {
     "cell_type": "code",
     "collapsed": false,
     "input": [
      "codigoPorEstado.keys()"
     ],
     "language": "python",
     "metadata": {},
     "outputs": [
      {
       "metadata": {},
       "output_type": "pyout",
       "prompt_number": 13,
       "text": [
        "['Veracruz', 'Oaxaca', 'Aguascalientes', 'Sonora']"
       ]
      }
     ],
     "prompt_number": 13
    },
    {
     "cell_type": "code",
     "collapsed": false,
     "input": [
      "codigoPorEstado['Jalisco'] = 'JAL'\n",
      "codigoPorEstado"
     ],
     "language": "python",
     "metadata": {},
     "outputs": [
      {
       "metadata": {},
       "output_type": "pyout",
       "prompt_number": 14,
       "text": [
        "{'Aguascalientes': 'AGU',\n",
        " 'Jalisco': 'JAL',\n",
        " 'Oaxaca': 'OAX',\n",
        " 'Sonora': 'SON',\n",
        " 'Veracruz': 'VER'}"
       ]
      }
     ],
     "prompt_number": 14
    },
    {
     "cell_type": "code",
     "collapsed": false,
     "input": [
      "codigoPorEstado['Veracruz']"
     ],
     "language": "python",
     "metadata": {},
     "outputs": [
      {
       "metadata": {},
       "output_type": "pyout",
       "prompt_number": 15,
       "text": [
        "'VER'"
       ]
      }
     ],
     "prompt_number": 15
    },
    {
     "cell_type": "code",
     "collapsed": false,
     "input": [
      "estadoPorCodigo = {codigo: estado for estado, codigo in codigoPorEstado.iteritems()}\n",
      "estadoPorCodigo"
     ],
     "language": "python",
     "metadata": {},
     "outputs": [
      {
       "metadata": {},
       "output_type": "pyout",
       "prompt_number": 16,
       "text": [
        "{'AGU': 'Aguascalientes',\n",
        " 'JAL': 'Jalisco',\n",
        " 'OAX': 'Oaxaca',\n",
        " 'SON': 'Sonora',\n",
        " 'VER': 'Veracruz'}"
       ]
      }
     ],
     "prompt_number": 16
    },
    {
     "cell_type": "code",
     "collapsed": false,
     "input": [
      "def suma(x,y):\n",
      "    return x + y\n",
      "\n",
      "suma(1,2)"
     ],
     "language": "python",
     "metadata": {},
     "outputs": [
      {
       "metadata": {},
       "output_type": "pyout",
       "prompt_number": 17,
       "text": [
        "3"
       ]
      }
     ],
     "prompt_number": 17
    },
    {
     "cell_type": "code",
     "collapsed": false,
     "input": [
      "multiplica = lambda x,y: x*y\n",
      "multiplica(1,2)"
     ],
     "language": "python",
     "metadata": {},
     "outputs": [
      {
       "metadata": {},
       "output_type": "pyout",
       "prompt_number": 18,
       "text": [
        "2"
       ]
      }
     ],
     "prompt_number": 18
    },
    {
     "cell_type": "code",
     "collapsed": false,
     "input": [
      "metodos = [suma, multiplica]\n",
      "metodos"
     ],
     "language": "python",
     "metadata": {},
     "outputs": [
      {
       "metadata": {},
       "output_type": "pyout",
       "prompt_number": 19,
       "text": [
        "[<function __main__.suma>, <function __main__.<lambda>>]"
       ]
      }
     ],
     "prompt_number": 19
    },
    {
     "cell_type": "code",
     "collapsed": false,
     "input": [
      "import random\n",
      "for x in xrange(5):\n",
      "    combina = random.choice(metodos)\n",
      "    print combina(4,5)"
     ],
     "language": "python",
     "metadata": {},
     "outputs": [
      {
       "output_type": "stream",
       "stream": "stdout",
       "text": [
        "9\n",
        "20\n",
        "20\n",
        "9\n",
        "20\n"
       ]
      }
     ],
     "prompt_number": 20
    },
    {
     "cell_type": "code",
     "collapsed": false,
     "input": [
      "from bs4 import BeautifulSoup\n",
      "from urllib2 import urlopen\n",
      "\n",
      "def get_enlaces(url):\n",
      "    html = urlopen(url).read()\n",
      "    enlaces = BeautifulSoup(html).find_all('a')\n",
      "    return [enlace.get('href') for enlace in enlaces]"
     ],
     "language": "python",
     "metadata": {},
     "outputs": [],
     "prompt_number": 21
    },
    {
     "cell_type": "code",
     "collapsed": false,
     "input": [
      "get_enlaces('http://www.lania.mx/')[:5]"
     ],
     "language": "python",
     "metadata": {},
     "outputs": [
      {
       "metadata": {},
       "output_type": "pyout",
       "prompt_number": 22,
       "text": [
        "['/index.php?option=com_content&view=article&id=6&Itemid=20',\n",
        " '/index.php?option=com_content&view=article&id=14&Itemid=12',\n",
        " '/index.php?option=com_content&view=article&id=45&Itemid=32',\n",
        " '/index.php?option=com_content&view=article&id=18&Itemid=15',\n",
        " '/index.php?option=com_content&view=article&id=13&Itemid=16']"
       ]
      }
     ],
     "prompt_number": 22
    },
    {
     "cell_type": "code",
     "collapsed": false,
     "input": [
      "get_enlaces('http://google.com')[:5]"
     ],
     "language": "python",
     "metadata": {},
     "outputs": [
      {
       "metadata": {},
       "output_type": "pyout",
       "prompt_number": 23,
       "text": [
        "['http://www.google.com.mx/imghp?hl=es-419&tab=wi',\n",
        " 'https://play.google.com/?hl=es-419&tab=w8',\n",
        " 'http://mx.youtube.com/?gl=MX&tab=w1',\n",
        " 'http://news.google.com.mx/nwshp?hl=es-419&tab=wn',\n",
        " 'https://mail.google.com/mail/?tab=wm']"
       ]
      }
     ],
     "prompt_number": 23
    },
    {
     "cell_type": "code",
     "collapsed": false,
     "input": [
      "get_enlaces('http://facebook.com')[:5]"
     ],
     "language": "python",
     "metadata": {},
     "outputs": [
      {
       "metadata": {},
       "output_type": "pyout",
       "prompt_number": 26,
       "text": [
        "['/',\n",
        " 'https://www.facebook.com/recover/initiate',\n",
        " '#',\n",
        " '/legal/terms',\n",
        " '/about/privacy']"
       ]
      }
     ],
     "prompt_number": 26
    },
    {
     "cell_type": "code",
     "collapsed": false,
     "input": [
      "class Animal(object):\n",
      "    \n",
      "    def __init__(self, nombre):\n",
      "        self.nombre = nombre\n",
      "        self.estomago = []\n",
      "        \n",
      "    def __repr__(self):\n",
      "        return self.nombre\n",
      "    \n",
      "    def pregunta(self):\n",
      "        return '%s esta %s' % (self.nombre, 'lleno' if self.estomago else 'hambriento')\n",
      "    \n",
      "    def come(self, comida):\n",
      "        if comida in self.estomago:\n",
      "            print '%s ya comio %s' % (self.nombre, comida)\n",
      "        else:\n",
      "            print '%s come %s!' %(self.nombre, comida)\n",
      "            self.estomago.append(comida)"
     ],
     "language": "python",
     "metadata": {},
     "outputs": [],
     "prompt_number": 27
    },
    {
     "cell_type": "code",
     "collapsed": false,
     "input": [
      "tortuga = Animal('Donatello')\n",
      "gato = Animal('Gardfield')\n",
      "bestia = Animal('Chupacabras')"
     ],
     "language": "python",
     "metadata": {},
     "outputs": [],
     "prompt_number": 28
    },
    {
     "cell_type": "code",
     "collapsed": false,
     "input": [
      "bestia.nombre"
     ],
     "language": "python",
     "metadata": {},
     "outputs": [
      {
       "metadata": {},
       "output_type": "pyout",
       "prompt_number": 29,
       "text": [
        "'Chupacabras'"
       ]
      }
     ],
     "prompt_number": 29
    },
    {
     "cell_type": "code",
     "collapsed": false,
     "input": [
      "bestia.pregunta()"
     ],
     "language": "python",
     "metadata": {},
     "outputs": [
      {
       "metadata": {},
       "output_type": "pyout",
       "prompt_number": 30,
       "text": [
        "'Chupacabras esta hambriento'"
       ]
      }
     ],
     "prompt_number": 30
    },
    {
     "cell_type": "code",
     "collapsed": false,
     "input": [
      "bestia.come(gato)"
     ],
     "language": "python",
     "metadata": {},
     "outputs": [
      {
       "output_type": "stream",
       "stream": "stdout",
       "text": [
        "Chupacabras come Gardfield!\n"
       ]
      }
     ],
     "prompt_number": 31
    },
    {
     "cell_type": "code",
     "collapsed": false,
     "input": [
      "gato in bestia.estomago"
     ],
     "language": "python",
     "metadata": {},
     "outputs": [
      {
       "metadata": {},
       "output_type": "pyout",
       "prompt_number": 32,
       "text": [
        "True"
       ]
      }
     ],
     "prompt_number": 32
    },
    {
     "cell_type": "code",
     "collapsed": false,
     "input": [
      "tortuga in gato.estomago"
     ],
     "language": "python",
     "metadata": {},
     "outputs": [
      {
       "metadata": {},
       "output_type": "pyout",
       "prompt_number": 33,
       "text": [
        "False"
       ]
      }
     ],
     "prompt_number": 33
    },
    {
     "cell_type": "code",
     "collapsed": false,
     "input": [
      "palabras = 'porque las abejas hacen miel'.split()\n",
      "\n",
      "for index, palabra in enumerate(palabras):\n",
      "    print index, palabra"
     ],
     "language": "python",
     "metadata": {},
     "outputs": [
      {
       "output_type": "stream",
       "stream": "stdout",
       "text": [
        "0 porque\n",
        "1 las\n",
        "2 abejas\n",
        "3 hacen\n",
        "4 miel\n"
       ]
      }
     ],
     "prompt_number": 34
    },
    {
     "cell_type": "code",
     "collapsed": false,
     "input": [
      "chicos='Pepe','Tomas','Alberto'\n",
      "chicas='Sandra','Esperanza','Rebeca'\n",
      "zip(chicos,chicas)"
     ],
     "language": "python",
     "metadata": {},
     "outputs": [
      {
       "metadata": {},
       "output_type": "pyout",
       "prompt_number": 35,
       "text": [
        "[('Pepe', 'Sandra'), ('Tomas', 'Esperanza'), ('Alberto', 'Rebeca')]"
       ]
      }
     ],
     "prompt_number": 35
    },
    {
     "cell_type": "code",
     "collapsed": false,
     "input": [
      "from __builtin__ import any\n",
      "\n",
      "def pasos_a_caminar():\n",
      "    print 'inicio'\n",
      "    for i in xrange(10):\n",
      "        yield i\n",
      "    print 'fin'\n",
      "\n",
      "# any() detiene el flujo tan pronto se cumpla la condicion\n",
      "print any(x > 5 for x in pasos_a_caminar())\n",
      "print\n",
      "print any(x > 10 for x in pasos_a_caminar())"
     ],
     "language": "python",
     "metadata": {},
     "outputs": [
      {
       "output_type": "stream",
       "stream": "stdout",
       "text": [
        "inicio\n",
        "True\n",
        "\n",
        "inicio\n",
        "fin\n",
        "False\n"
       ]
      }
     ],
     "prompt_number": 36
    },
    {
     "cell_type": "code",
     "collapsed": false,
     "input": [],
     "language": "python",
     "metadata": {},
     "outputs": []
    }
   ],
   "metadata": {}
  }
 ]
}