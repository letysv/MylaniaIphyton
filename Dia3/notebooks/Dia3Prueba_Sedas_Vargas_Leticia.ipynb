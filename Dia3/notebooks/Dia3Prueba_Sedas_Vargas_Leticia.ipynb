{
 "metadata": {
  "name": "",
  "signature": "sha256:a5a8b2c65fe844ae44b7267096c39af92679e9c0aa626c8c9bca462b7b3b0f40"
 },
 "nbformat": 3,
 "nbformat_minor": 0,
 "worksheets": [
  {
   "cells": [
    {
     "cell_type": "code",
     "collapsed": false,
     "input": [
      "%run ../talktools.py"
     ],
     "language": "python",
     "metadata": {},
     "outputs": [
      {
       "ename": "IOError",
       "evalue": "[Errno 2] No such file or directory: '../../styles/matstyle.css'",
       "output_type": "pyerr",
       "traceback": [
        "\u001b[1;31m---------------------------------------------------------------------------\u001b[0m\n\u001b[1;31mIOError\u001b[0m                                   Traceback (most recent call last)",
        "\u001b[1;32mC:\\Users\\Lety\\Documents\\IPython Notebooks\\MylaniaIphyton\\Dia3\\talktools.py\u001b[0m in \u001b[0;36m<module>\u001b[1;34m()\u001b[0m\n\u001b[0;32m     89\u001b[0m \u001b[1;31m#-----------------------------------------------------------------------------\u001b[0m\u001b[1;33m\u001b[0m\u001b[1;33m\u001b[0m\u001b[0m\n\u001b[0;32m     90\u001b[0m \u001b[1;32mif\u001b[0m \u001b[0m__name__\u001b[0m \u001b[1;33m==\u001b[0m \u001b[1;34m'__main__'\u001b[0m\u001b[1;33m:\u001b[0m\u001b[1;33m\u001b[0m\u001b[0m\n\u001b[1;32m---> 91\u001b[1;33m     \u001b[0mdisplay\u001b[0m\u001b[1;33m(\u001b[0m\u001b[0mHTML\u001b[0m\u001b[1;33m(\u001b[0m\u001b[0mopen\u001b[0m\u001b[1;33m(\u001b[0m\u001b[1;34m\"../../styles/matstyle.css\"\u001b[0m\u001b[1;33m,\u001b[0m \u001b[1;34m\"r\"\u001b[0m\u001b[1;33m)\u001b[0m\u001b[1;33m.\u001b[0m\u001b[0mread\u001b[0m\u001b[1;33m(\u001b[0m\u001b[1;33m)\u001b[0m\u001b[1;33m)\u001b[0m\u001b[1;33m)\u001b[0m\u001b[1;33m\u001b[0m\u001b[0m\n\u001b[0m",
        "\u001b[1;31mIOError\u001b[0m: [Errno 2] No such file or directory: '../../styles/matstyle.css'"
       ]
      }
     ],
     "prompt_number": 1
    },
    {
     "cell_type": "code",
     "collapsed": false,
     "input": [
      " l = \"Hola clase\"\n",
      "print l"
     ],
     "language": "python",
     "metadata": {},
     "outputs": [
      {
       "output_type": "stream",
       "stream": "stdout",
       "text": [
        "Hola clase\n"
       ]
      }
     ],
     "prompt_number": 2
    },
    {
     "cell_type": "markdown",
     "metadata": {},
     "source": [
      "esto es cambio"
     ]
    },
    {
     "cell_type": "markdown",
     "metadata": {},
     "source": [
      "otro cambio"
     ]
    },
    {
     "cell_type": "code",
     "collapsed": false,
     "input": [
      "import android"
     ],
     "language": "python",
     "metadata": {},
     "outputs": [],
     "prompt_number": 1
    },
    {
     "cell_type": "code",
     "collapsed": false,
     "input": [
      "!dir"
     ],
     "language": "python",
     "metadata": {},
     "outputs": [
      {
       "output_type": "stream",
       "stream": "stdout",
       "text": [
        " El volumen de la unidad C no tiene etiqueta.\n",
        " El n\u00a3mero de serie del volumen es: 8AAF-948E\n",
        "\n",
        " Directorio de C:\\Users\\Lety\\Documents\\IPython Notebooks\\MylaniaIphyton\\Dia3\\notebooks\n",
        "\n",
        "15/11/2014  11:56 a.m.    <DIR>          .\n",
        "15/11/2014  11:56 a.m.    <DIR>          ..\n",
        "15/11/2014  11:55 a.m.    <DIR>          .ipynb_checkpoints\n",
        "15/11/2014  09:45 a.m.            10,471 01_Adquiriendo_Datos_imagenes.ipynb\n",
        "15/11/2014  09:45 a.m.            24,216 02_Distribuyendo_Datos_imagenes.ipynb\n",
        "04/11/2014  10:13 p.m.         1,468,497 03_Procesando_Datos_imagenes.ipynb\n",
        "15/11/2014  09:45 a.m.           251,923 04_Adquiriendo_Datos_GPS.ipynb\n",
        "04/11/2014  10:13 p.m.            98,504 05_Adquiriendo_Datos_Accel-Copy0.ipynb\n",
        "04/11/2014  10:13 p.m.            59,756 05_Adquiriendo_Datos_Accel.ipynb\n",
        "15/11/2014  11:50 a.m.             1,766 android.py\n",
        "15/11/2014  11:56 a.m.             1,821 android.pyc\n",
        "15/11/2014  09:45 a.m.           212,182 conGota.jpg\n",
        "15/11/2014  10:03 a.m.             7,198 Dia3Prueba_Sedas_Vargas_Leticia.ipynb\n",
        "15/11/2014  09:45 a.m.         2,379,589 esporas.jpg\n",
        "15/11/2014  09:45 a.m.         3,615,826 flor.jpg\n",
        "15/11/2014  09:45 a.m.         1,252,025 Juanita.jpg\n",
        "15/11/2014  09:45 a.m.            11,391 lib02Dia2_Sedas_Vargas_Leticia.ipynb\n",
        "15/11/2014  09:45 a.m.           225,156 lib04Dia3_Sedas_Vargas_Leticia.ipynb\n",
        "15/11/2014  09:45 a.m.           942,481 Lore.jpg\n",
        "              16 archivos     10,562,802 bytes\n",
        "               3 dirs  137,550,200,832 bytes libres\n"
       ]
      }
     ],
     "prompt_number": 2
    },
    {
     "cell_type": "code",
     "collapsed": false,
     "input": [
      "!adb"
     ],
     "language": "python",
     "metadata": {},
     "outputs": [
      {
       "output_type": "stream",
       "stream": "stderr",
       "text": [
        "\"adb\" no se reconoce como un comando interno o externo,\n",
        "programa o archivo por lotes ejecutable.\n"
       ]
      }
     ],
     "prompt_number": 3
    },
    {
     "cell_type": "code",
     "collapsed": false,
     "input": [
      "%%cmd\n",
      "adb"
     ],
     "language": "python",
     "metadata": {},
     "outputs": [
      {
       "output_type": "stream",
       "stream": "stdout",
       "text": [
        "Microsoft Windows [Versi\ufffdn 6.1.7601]\r\n",
        "Copyright (c) 2009 Microsoft Corporation. Reservados todos los derechos.\r\n",
        "\r\n",
        "C:\\Users\\Lety\\Documents\\IPython Notebooks\\MylaniaIphyton\\Dia3\\notebooks>adb\n",
        "\r\n",
        "C:\\Users\\Lety\\Documents\\IPython Notebooks\\MylaniaIphyton\\Dia3\\notebooks>"
       ]
      },
      {
       "output_type": "stream",
       "stream": "stderr",
       "text": [
        "Android Debug Bridge version 1.0.31\r\n",
        "\r\n",
        " -a                            - directs adb to listen on all interfaces for a connection\r\n",
        " -d                            - directs command to the only connected USB device\r\n",
        "                                 returns an error if more than one USB device is present.\r\n",
        " -e                            - directs command to the only running emulator.\r\n",
        "                                 returns an error if more than one emulator is running.\r\n",
        " -s <specific device>          - directs command to the device or emulator with the given\r\n",
        "                                 serial number or qualifier. Overrides ANDROID_SERIAL\r\n",
        "                                 environment variable.\r\n",
        " -p <product name or path>     - simple product name like 'sooner', or\r\n",
        "                                 a relative/absolute path to a product\r\n",
        "                                 out directory like 'out/target/product/sooner'.\r\n",
        "                                 If -p is not specified, the ANDROID_PRODUCT_OUT\r\n",
        "                                 environment variable is used, which must\r\n",
        "                                 be an absolute path.\r\n",
        " -H                            - Name of adb server host (default: localhost)\r\n",
        " -P                            - Port of adb server (default: 5037)\r\n",
        " devices [-l]                  - list all connected devices\r\n",
        "                                 ('-l' will also list device qualifiers)\r\n",
        " connect <host>[:<port>]       - connect to a device via TCP/IP\r\n",
        "                                 Port 5555 is used by default if no port number is specified.\r\n",
        " disconnect [<host>[:<port>]]  - disconnect from a TCP/IP device.\r\n",
        "                                 Port 5555 is used by default if no port number is specified.\r\n",
        "                                 Using this command with no additional arguments\r\n",
        "                                 will disconnect from all connected TCP/IP devices.\r\n",
        "\r\n",
        "device commands:\r\n",
        "  adb push [-p] <local> <remote>\r\n",
        "                               - copy file/dir to device\r\n",
        "                                 ('-p' to display the transfer progress)\r\n",
        "  adb pull [-p] [-a] <remote> [<local>]\r\n",
        "                               - copy file/dir from device\r\n",
        "                                 ('-p' to display the transfer progress)\r\n",
        "                                 ('-a' means copy timestamp and mode)\r\n",
        "  adb sync [ <directory> ]     - copy host->device only if changed\r\n",
        "                                 (-l means list but don't copy)\r\n",
        "                                 (see 'adb help all')\r\n",
        "  adb shell                    - run remote shell interactively\r\n",
        "  adb shell <command>          - run remote shell command\r\n",
        "  adb emu <command>            - run emulator console command\r\n",
        "  adb logcat [ <filter-spec> ] - View device log\r\n",
        "  adb forward --list           - list all forward socket connections.\r\n",
        "                                 the format is a list of lines with the following format:\r\n",
        "                                    <serial> \" \" <local> \" \" <remote> \"\\n\"\r\n",
        "  adb forward <local> <remote> - forward socket connections\r\n",
        "                                 forward specs are one of: \r\n",
        "                                   tcp:<port>\r\n",
        "                                   localabstract:<unix domain socket name>\r\n",
        "                                   localreserved:<unix domain socket name>\r\n",
        "                                   localfilesystem:<unix domain socket name>\r\n",
        "                                   dev:<character device name>\r\n",
        "                                   jdwp:<process pid> (remote only)\r\n",
        "  adb forward --no-rebind <local> <remote>\r\n",
        "                               - same as 'adb forward <local> <remote>' but fails\r\n",
        "                                 if <local> is already forwarded\r\n",
        "  adb forward --remove <local> - remove a specific forward socket connection\r\n",
        "  adb forward --remove-all     - remove all forward socket connections\r\n",
        "  adb jdwp                     - list PIDs of processes hosting a JDWP transport\r\n",
        "  adb install [-l] [-r] [-d] [-s] [--algo <algorithm name> --key <hex-encoded key> --iv <hex-encoded iv>] <file>\r\n",
        "                               - push this package file to the device and install it\r\n",
        "                                 ('-l' means forward-lock the app)\r\n",
        "                                 ('-r' means reinstall the app, keeping its data)\r\n",
        "                                 ('-d' means allow version code downgrade)\r\n",
        "                                 ('-s' means install on SD card instead of internal storage)\r\n",
        "                                 ('--algo', '--key', and '--iv' mean the file is encrypted already)\r\n",
        "  adb uninstall [-k] <package> - remove this app package from the device\r\n",
        "                                 ('-k' means keep the data and cache directories)\r\n",
        "  adb bugreport                - return all information from the device\r\n",
        "                                 that should be included in a bug report.\r\n",
        "\r\n",
        "  adb backup [-f <file>] [-apk|-noapk] [-obb|-noobb] [-shared|-noshared] [-all] [-system|-nosystem] [<packages...>]\r\n",
        "                               - write an archive of the device's data to <file>.\r\n",
        "                                 If no -f option is supplied then the data is written\r\n",
        "                                 to \"backup.ab\" in the current directory.\r\n",
        "                                 (-apk|-noapk enable/disable backup of the .apks themselves\r\n",
        "                                    in the archive; the default is noapk.)\r\n",
        "                                 (-obb|-noobb enable/disable backup of any installed apk expansion\r\n",
        "                                    (aka .obb) files associated with each application; the default\r\n",
        "                                    is noobb.)\r\n",
        "                                 (-shared|-noshared enable/disable backup of the device's\r\n",
        "                                    shared storage / SD card contents; the default is noshared.)\r\n",
        "                                 (-all means to back up all installed applications)\r\n",
        "                                 (-system|-nosystem toggles whether -all automatically includes\r\n",
        "                                    system applications; the default is to include system apps)\r\n",
        "                                 (<packages...> is the list of applications to be backed up.  If\r\n",
        "                                    the -all or -shared flags are passed, then the package\r\n",
        "                                    list is optional.  Applications explicitly given on the\r\n",
        "                                    command line will be included even if -nosystem would\r\n",
        "                                    ordinarily cause them to be omitted.)\r\n",
        "\r\n",
        "  adb restore <file>           - restore device contents from the <file> backup archive\r\n",
        "\r\n",
        "  adb help                     - show this help message\r\n",
        "  adb version                  - show version num\r\n",
        "\r\n",
        "scripting:\r\n",
        "  adb wait-for-device          - block until device is online\r\n",
        "  adb start-server             - ensure that there is a server running\r\n",
        "  adb kill-server              - kill the server if it is running\r\n",
        "  adb get-state                - prints: offline | bootloader | device\r\n",
        "  adb get-serialno             - prints: <serial-number>\r\n",
        "  adb get-devpath              - prints: <device-path>\r\n",
        "  adb status-window            - continuously print device status for a specified device\r\n",
        "  adb remount                  - remounts the /system partition on the device read-write\r\n",
        "  adb reboot [bootloader|recovery] - reboots the device, optionally into the bootloader or recovery program\r\n",
        "  adb reboot-bootloader        - reboots the device into the bootloader\r\n",
        "  adb root                     - restarts the adbd daemon with root permissions\r\n",
        "  adb usb                      - restarts the adbd daemon listening on USB\r\n",
        "  adb tcpip <port>             - restarts the adbd daemon listening on TCP on the specified port\r\n",
        "networking:\r\n",
        "  adb ppp <tty> [parameters]   - Run PPP over USB.\r\n",
        " Note: you should not automatically start a PPP connection.\r\n",
        " <tty> refers to the tty for PPP stream. Eg. dev:/dev/omap_csmi_tty1\r\n",
        " [parameters] - Eg. defaultroute debug dump local notty usepeerdns\r\n",
        "\r\n",
        "adb sync notes: adb sync [ <directory> ]\r\n",
        "  <localdir> can be interpreted in several ways:\r\n",
        "\r\n",
        "  - If <directory> is not specified, both /system and /data partitions will be updated.\r\n",
        "\r\n",
        "  - If it is \"system\" or \"data\", only the corresponding partition\r\n",
        "    is updated.\r\n",
        "\r\n",
        "environmental variables:\r\n",
        "  ADB_TRACE                    - Print debug information. A comma separated list of the following values\r\n",
        "                                 1 or all, adb, sockets, packets, rwx, usb, sync, sysdeps, transport, jdwp\r\n",
        "  ANDROID_SERIAL               - The serial number to connect to. -s takes priority over this if given.\r\n",
        "  ANDROID_LOG_TAGS             - When used with the logcat option, only these debug tags are printed.\r\n"
       ]
      }
     ],
     "prompt_number": 1
    },
    {
     "cell_type": "code",
     "collapsed": false,
     "input": [
      "%%cmd\n",
      "adb forward tcp:9999 tcp:4321"
     ],
     "language": "python",
     "metadata": {},
     "outputs": [
      {
       "output_type": "stream",
       "stream": "stdout",
       "text": [
        "Microsoft Windows [Versi\ufffdn 6.1.7601]\r\n",
        "Copyright (c) 2009 Microsoft Corporation. Reservados todos los derechos.\r\n",
        "\r\n",
        "C:\\Users\\Lety\\Documents\\IPython Notebooks\\MylaniaIphyton\\Dia3\\notebooks>adb forward tcp:9999 tcp:4321\n",
        "\r\n",
        "C:\\Users\\Lety\\Documents\\IPython Notebooks\\MylaniaIphyton\\Dia3\\notebooks>"
       ]
      },
      {
       "output_type": "stream",
       "stream": "stderr",
       "text": [
        "error: device not found\r\n",
        "error: device not found\r\n"
       ]
      }
     ],
     "prompt_number": 3
    },
    {
     "cell_type": "code",
     "collapsed": false,
     "input": [
      "%%cmd\n",
      "adb devices"
     ],
     "language": "python",
     "metadata": {},
     "outputs": [
      {
       "output_type": "stream",
       "stream": "stdout",
       "text": [
        "Microsoft Windows [Versi\ufffdn 6.1.7601]\r\n",
        "Copyright (c) 2009 Microsoft Corporation. Reservados todos los derechos.\r\n",
        "\r\n",
        "C:\\Users\\Lety\\Documents\\IPython Notebooks\\MylaniaIphyton\\Dia3\\notebooks>adb devices\n",
        "List of devices attached \r\n",
        "479006971fe65010\tdevice\r\n",
        "\r\n",
        "\r\n",
        "C:\\Users\\Lety\\Documents\\IPython Notebooks\\MylaniaIphyton\\Dia3\\notebooks>"
       ]
      }
     ],
     "prompt_number": 3
    },
    {
     "cell_type": "code",
     "collapsed": false,
     "input": [
      "%%cmd\n",
      "adb forward tcp:9999 tcp:46603\n",
      "set AP_PORT=9999"
     ],
     "language": "python",
     "metadata": {},
     "outputs": [
      {
       "output_type": "stream",
       "stream": "stdout",
       "text": [
        "Microsoft Windows [Versi\ufffdn 6.1.7601]\r\n",
        "Copyright (c) 2009 Microsoft Corporation. Reservados todos los derechos.\r\n",
        "\r\n",
        "C:\\Users\\Lety\\Documents\\IPython Notebooks\\MylaniaIphyton\\Dia3\\notebooks>adb forward tcp:9999 tcp:46603\n",
        "\r\n",
        "C:\\Users\\Lety\\Documents\\IPython Notebooks\\MylaniaIphyton\\Dia3\\notebooks>set AP_PORT=9999\n",
        "\r\n",
        "C:\\Users\\Lety\\Documents\\IPython Notebooks\\MylaniaIphyton\\Dia3\\notebooks>"
       ]
      }
     ],
     "prompt_number": 45
    },
    {
     "cell_type": "code",
     "collapsed": false,
     "input": [
      "droide = android.Android()"
     ],
     "language": "python",
     "metadata": {},
     "outputs": [],
     "prompt_number": 46
    },
    {
     "cell_type": "code",
     "collapsed": false,
     "input": [
      "import android"
     ],
     "language": "python",
     "metadata": {},
     "outputs": [],
     "prompt_number": 47
    },
    {
     "cell_type": "code",
     "collapsed": false,
     "input": [
      "droide = android.Android()"
     ],
     "language": "python",
     "metadata": {},
     "outputs": [],
     "prompt_number": 65
    },
    {
     "cell_type": "code",
     "collapsed": false,
     "input": [
      "droide.ttsSpeak(\"come doritos!!!\")"
     ],
     "language": "python",
     "metadata": {},
     "outputs": [
      {
       "metadata": {},
       "output_type": "pyout",
       "prompt_number": 120,
       "text": [
        "Result(id=12, result=None, error=None)"
       ]
      }
     ],
     "prompt_number": 120
    },
    {
     "cell_type": "code",
     "collapsed": false,
     "input": [
      "mensaje =droide.dialogGetInput('TTS', 'Escriban el mensaje que quieren que repita').result"
     ],
     "language": "python",
     "metadata": {},
     "outputs": [],
     "prompt_number": 55
    },
    {
     "cell_type": "code",
     "collapsed": false,
     "input": [
      "droide.makeToast('hola')"
     ],
     "language": "python",
     "metadata": {},
     "outputs": [
      {
       "metadata": {},
       "output_type": "pyout",
       "prompt_number": 53,
       "text": [
        "Result(id=6, result=None, error=None)"
       ]
      }
     ],
     "prompt_number": 53
    },
    {
     "cell_type": "code",
     "collapsed": false,
     "input": [
      "mensaje"
     ],
     "language": "python",
     "metadata": {},
     "outputs": [
      {
       "metadata": {},
       "output_type": "pyout",
       "prompt_number": 56,
       "text": [
        "u'hola'"
       ]
      }
     ],
     "prompt_number": 56
    },
    {
     "cell_type": "code",
     "collapsed": false,
     "input": [
      "droide.ttsSpeak(mensaje)"
     ],
     "language": "python",
     "metadata": {},
     "outputs": [
      {
       "metadata": {},
       "output_type": "pyout",
       "prompt_number": 57,
       "text": [
        "Result(id=9, result=None, error=None)"
       ]
      }
     ],
     "prompt_number": 57
    },
    {
     "cell_type": "code",
     "collapsed": false,
     "input": [
      "print droide.getClipboard().result"
     ],
     "language": "python",
     "metadata": {},
     "outputs": [
      {
       "output_type": "stream",
       "stream": "stdout",
       "text": [
        "http://www.lania.mx/\n"
       ]
      }
     ],
     "prompt_number": 67
    },
    {
     "cell_type": "code",
     "collapsed": false,
     "input": [
      "import android\n",
      "droid = android.Android()"
     ],
     "language": "python",
     "metadata": {},
     "outputs": [],
     "prompt_number": 72
    },
    {
     "cell_type": "code",
     "collapsed": false,
     "input": [
      "droid.startSensingTimed(1,100) # arranca todos los sensores cada 100 milisengundos"
     ],
     "language": "python",
     "metadata": {},
     "outputs": [
      {
       "metadata": {},
       "output_type": "pyout",
       "prompt_number": 75,
       "text": [
        "Result(id=1, result=None, error=None)"
       ]
      }
     ],
     "prompt_number": 75
    },
    {
     "cell_type": "code",
     "collapsed": false,
     "input": [
      "for i in range(10):\n",
      "    e = droid.eventPoll(1)\n",
      "    if e.result is not None:\n",
      "        print True\n",
      "    else:\n",
      "        time.sleep(2)\n",
      "        print False"
     ],
     "language": "python",
     "metadata": {},
     "outputs": [
      {
       "output_type": "stream",
       "stream": "stdout",
       "text": [
        "True\n",
        "True\n",
        "True\n",
        "True\n",
        "True\n",
        "True\n",
        "True"
       ]
      },
      {
       "output_type": "stream",
       "stream": "stdout",
       "text": [
        "\n",
        "True\n",
        "True\n",
        "True\n"
       ]
      }
     ],
     "prompt_number": 76
    },
    {
     "cell_type": "code",
     "collapsed": false,
     "input": [
      "droid.stopSensing()"
     ],
     "language": "python",
     "metadata": {},
     "outputs": [
      {
       "metadata": {},
       "output_type": "pyout",
       "prompt_number": 77,
       "text": [
        "Result(id=12, result=None, error=None)"
       ]
      }
     ],
     "prompt_number": 77
    },
    {
     "cell_type": "heading",
     "level": 1,
     "metadata": {},
     "source": [
      "Test GPS"
     ]
    },
    {
     "cell_type": "code",
     "collapsed": false,
     "input": [
      "droid.startLocating()"
     ],
     "language": "python",
     "metadata": {},
     "outputs": [
      {
       "metadata": {},
       "output_type": "pyout",
       "prompt_number": 78,
       "text": [
        "Result(id=13, result=None, error=None)"
       ]
      }
     ],
     "prompt_number": 78
    },
    {
     "cell_type": "code",
     "collapsed": false,
     "input": [
      "import time\n",
      "for i in range(10):\n",
      "    e = droid.eventPoll(1)\n",
      "    if e.result is not None:\n",
      "        print True\n",
      "    else:\n",
      "        time.sleep(2)\n",
      "        print False"
     ],
     "language": "python",
     "metadata": {},
     "outputs": [
      {
       "output_type": "stream",
       "stream": "stdout",
       "text": [
        "True\n",
        "True\n",
        "True"
       ]
      },
      {
       "output_type": "stream",
       "stream": "stdout",
       "text": [
        "\n",
        "True\n",
        "True"
       ]
      },
      {
       "output_type": "stream",
       "stream": "stdout",
       "text": [
        "\n",
        "True\n",
        "True\n",
        "True\n",
        "True\n",
        "True"
       ]
      },
      {
       "output_type": "stream",
       "stream": "stdout",
       "text": [
        "\n"
       ]
      }
     ],
     "prompt_number": 79
    },
    {
     "cell_type": "code",
     "collapsed": false,
     "input": [
      "droid.stopLocating()"
     ],
     "language": "python",
     "metadata": {},
     "outputs": [
      {
       "metadata": {},
       "output_type": "pyout",
       "prompt_number": 80,
       "text": [
        "Result(id=24, result=None, error=None)"
       ]
      }
     ],
     "prompt_number": 80
    },
    {
     "cell_type": "code",
     "collapsed": false,
     "input": [
      "result = droid.getLastKnownLocation()\n",
      "result"
     ],
     "language": "python",
     "metadata": {},
     "outputs": [
      {
       "metadata": {},
       "output_type": "pyout",
       "prompt_number": 81,
       "text": [
        "Result(id=25, result={u'passive': {u'bearing': 0, u'altitude': 0, u'time': 1416085063401L, u'longitude': -96.9156756, u'provider': u'network', u'latitude': 19.520119, u'speed': 0, u'accuracy': 31.5}, u'network': {u'bearing': 0, u'altitude': 0, u'time': 1416085063401L, u'longitude': -96.9156756, u'provider': u'network', u'latitude': 19.520119, u'speed': 0, u'accuracy': 31.5}, u'gps': {u'bearing': 205.22000122070312, u'altitude': 1482.5, u'time': 1416085035000L, u'longitude': -96.9152595475316, u'provider': u'gps', u'latitude': 19.519637594930828, u'speed': 1.375, u'accuracy': 30}}, error=None)"
       ]
      }
     ],
     "prompt_number": 81
    },
    {
     "cell_type": "code",
     "collapsed": false,
     "input": [
      "result.result"
     ],
     "language": "python",
     "metadata": {},
     "outputs": [
      {
       "metadata": {},
       "output_type": "pyout",
       "prompt_number": 82,
       "text": [
        "{u'gps': {u'accuracy': 30,\n",
        "  u'altitude': 1482.5,\n",
        "  u'bearing': 205.22000122070312,\n",
        "  u'latitude': 19.519637594930828,\n",
        "  u'longitude': -96.9152595475316,\n",
        "  u'provider': u'gps',\n",
        "  u'speed': 1.375,\n",
        "  u'time': 1416085035000L},\n",
        " u'network': {u'accuracy': 31.5,\n",
        "  u'altitude': 0,\n",
        "  u'bearing': 0,\n",
        "  u'latitude': 19.520119,\n",
        "  u'longitude': -96.9156756,\n",
        "  u'provider': u'network',\n",
        "  u'speed': 0,\n",
        "  u'time': 1416085063401L},\n",
        " u'passive': {u'accuracy': 31.5,\n",
        "  u'altitude': 0,\n",
        "  u'bearing': 0,\n",
        "  u'latitude': 19.520119,\n",
        "  u'longitude': -96.9156756,\n",
        "  u'provider': u'network',\n",
        "  u'speed': 0,\n",
        "  u'time': 1416085063401L}}"
       ]
      }
     ],
     "prompt_number": 82
    },
    {
     "cell_type": "code",
     "collapsed": false,
     "input": [
      "droid.geocode(0.0,0.0,1)"
     ],
     "language": "python",
     "metadata": {},
     "outputs": [
      {
       "output_type": "stream",
       "stream": "stdout",
       "text": [
        "java.io.IOException: Service not Available\n"
       ]
      },
      {
       "metadata": {},
       "output_type": "pyout",
       "prompt_number": 83,
       "text": [
        "Result(id=26, result=None, error=u'java.io.IOException: Service not Available')"
       ]
      }
     ],
     "prompt_number": 83
    },
    {
     "cell_type": "heading",
     "level": 1,
     "metadata": {},
     "source": [
      "test phone"
     ]
    },
    {
     "cell_type": "code",
     "collapsed": false,
     "input": [
      "droid.startTrackingPhoneState()"
     ],
     "language": "python",
     "metadata": {},
     "outputs": [
      {
       "metadata": {},
       "output_type": "pyout",
       "prompt_number": 84,
       "text": [
        "Result(id=27, result=None, error=None)"
       ]
      }
     ],
     "prompt_number": 84
    },
    {
     "cell_type": "code",
     "collapsed": false,
     "input": [
      "for i in range(10):\n",
      "    e = droid.eventPoll(1)\n",
      "    if e.result is not None:\n",
      "        print True\n",
      "    else:\n",
      "        time.sleep(2)\n",
      "        print False\n",
      "        "
     ],
     "language": "python",
     "metadata": {},
     "outputs": [
      {
       "output_type": "stream",
       "stream": "stdout",
       "text": [
        "True\n",
        "True\n",
        "True\n",
        "True\n",
        "True\n",
        "True\n",
        "True\n",
        "True\n",
        "True\n",
        "True\n"
       ]
      }
     ],
     "prompt_number": 86
    },
    {
     "cell_type": "code",
     "collapsed": false,
     "input": [
      "droid.startTrackingPhoneState()"
     ],
     "language": "python",
     "metadata": {},
     "outputs": [
      {
       "metadata": {},
       "output_type": "pyout",
       "prompt_number": 87,
       "text": [
        "Result(id=39, result=None, error=None)"
       ]
      }
     ],
     "prompt_number": 87
    },
    {
     "cell_type": "code",
     "collapsed": false,
     "input": [
      "droid.toggleWifiState() #cambia el status del wifi, prendido o apagado"
     ],
     "language": "python",
     "metadata": {},
     "outputs": [
      {
       "metadata": {},
       "output_type": "pyout",
       "prompt_number": 93,
       "text": [
        "Result(id=45, result=True, error=None)"
       ]
      }
     ],
     "prompt_number": 93
    },
    {
     "cell_type": "code",
     "collapsed": false,
     "input": [
      "if droid.toggleWifiState().result is True:\n",
      "    droid.ttsSpeak(\"Despierten\")"
     ],
     "language": "python",
     "metadata": {},
     "outputs": [],
     "prompt_number": 97
    },
    {
     "cell_type": "markdown",
     "metadata": {},
     "source": [
      "toma datos del acelerometro"
     ]
    },
    {
     "cell_type": "code",
     "collapsed": false,
     "input": [
      "dt= 100"
     ],
     "language": "python",
     "metadata": {},
     "outputs": [],
     "prompt_number": 98
    },
    {
     "cell_type": "code",
     "collapsed": false,
     "input": [
      "final = 3000"
     ],
     "language": "python",
     "metadata": {},
     "outputs": [],
     "prompt_number": 99
    },
    {
     "cell_type": "code",
     "collapsed": false,
     "input": [
      "tiempo = 0 \n",
      "droid.startSensingTimed(2,dt)"
     ],
     "language": "python",
     "metadata": {},
     "outputs": [
      {
       "metadata": {},
       "output_type": "pyout",
       "prompt_number": 100,
       "text": [
        "Result(id=49, result=None, error=None)"
       ]
      }
     ],
     "prompt_number": 100
    },
    {
     "cell_type": "code",
     "collapsed": false,
     "input": [
      "import time"
     ],
     "language": "python",
     "metadata": {},
     "outputs": [],
     "prompt_number": 101
    },
    {
     "cell_type": "code",
     "collapsed": false,
     "input": [
      "tiempo = 0 \n",
      "droid.startSensingTimed(2,dt)\n",
      "\n",
      "while tiempo <= final:\n",
      "    print droid.sensorsReadAccelerometer().result\n",
      "    time.sleep(dt/1000.0)\n",
      "    tiempo += dt\n",
      "    \n",
      "\n",
      "    droid.stopSensing()"
     ],
     "language": "python",
     "metadata": {},
     "outputs": [
      {
       "output_type": "stream",
       "stream": "stdout",
       "text": [
        "[-0.18315643, 0.1328782, 9.746795]\n",
        "[-0.18315643, 0.1328782, 9.746795]"
       ]
      },
      {
       "output_type": "stream",
       "stream": "stdout",
       "text": [
        "\n",
        "[-0.18076223, 0.12090719, 9.707291]"
       ]
      },
      {
       "output_type": "stream",
       "stream": "stdout",
       "text": [
        "\n",
        "[-0.18914193, 0.09696517, 9.750386]"
       ]
      },
      {
       "output_type": "stream",
       "stream": "stdout",
       "text": [
        "\n",
        "[-0.18076223, 0.110133275, 9.7479925]"
       ]
      },
      {
       "output_type": "stream",
       "stream": "stdout",
       "text": [
        "\n",
        "[-0.16879122, 0.12449849, 9.765948]"
       ]
      },
      {
       "output_type": "stream",
       "stream": "stdout",
       "text": [
        "\n",
        "[-0.19752164, 0.1316811, 9.7084875]"
       ]
      },
      {
       "output_type": "stream",
       "stream": "stdout",
       "text": [
        "\n",
        "[-0.20231004, 0.1328782, 9.752781]"
       ]
      },
      {
       "output_type": "stream",
       "stream": "stdout",
       "text": [
        "\n",
        "[-0.17717093, 0.12808979, 9.7240505]"
       ]
      },
      {
       "output_type": "stream",
       "stream": "stdout",
       "text": [
        "\n",
        "[-0.17956513, 0.12569559, 9.734824]"
       ]
      },
      {
       "output_type": "stream",
       "stream": "stdout",
       "text": [
        "\n",
        "[-0.19752164, 0.11372458, 9.712079]"
       ]
      },
      {
       "output_type": "stream",
       "stream": "stdout",
       "text": [
        "\n",
        "[-0.17118542, 0.11731588, 9.704897]"
       ]
      },
      {
       "output_type": "stream",
       "stream": "stdout",
       "text": [
        "\n",
        "[-0.18195933, 0.11971009, 9.740809]"
       ]
      },
      {
       "output_type": "stream",
       "stream": "stdout",
       "text": [
        "\n",
        "[-0.18914193, 0.11971009, 9.742006]"
       ]
      },
      {
       "output_type": "stream",
       "stream": "stdout",
       "text": [
        "\n",
        "[-0.17118542, 0.107739076, 9.727641]"
       ]
      },
      {
       "output_type": "stream",
       "stream": "stdout",
       "text": [
        "\n",
        "[-0.15801731, 0.11372458, 9.734824]"
       ]
      },
      {
       "output_type": "stream",
       "stream": "stdout",
       "text": [
        "\n",
        "[-0.16400282, 0.12210429, 9.734824]"
       ]
      },
      {
       "output_type": "stream",
       "stream": "stdout",
       "text": [
        "\n",
        "[-0.16280572, 0.12330139, 9.739613]"
       ]
      },
      {
       "output_type": "stream",
       "stream": "stdout",
       "text": [
        "\n",
        "[-0.16400282, 0.11731588, 9.716867]"
       ]
      },
      {
       "output_type": "stream",
       "stream": "stdout",
       "text": [
        "\n",
        "[-0.1604115, 0.1316811, 9.737218]"
       ]
      },
      {
       "output_type": "stream",
       "stream": "stdout",
       "text": [
        "\n",
        "[-0.18674773, 0.11372458, 9.706094]"
       ]
      },
      {
       "output_type": "stream",
       "stream": "stdout",
       "text": [
        "\n",
        "[-0.19752164, 0.12210429, 9.746795]"
       ]
      },
      {
       "output_type": "stream",
       "stream": "stdout",
       "text": [
        "\n",
        "[-0.16400282, 0.11971009, 9.696517]"
       ]
      },
      {
       "output_type": "stream",
       "stream": "stdout",
       "text": [
        "\n",
        "[-0.17836803, 0.110133275, 9.737218]"
       ]
      },
      {
       "output_type": "stream",
       "stream": "stdout",
       "text": [
        "\n",
        "[-0.19871874, 0.11611878, 9.742006]"
       ]
      },
      {
       "output_type": "stream",
       "stream": "stdout",
       "text": [
        "\n",
        "[-0.17118542, 0.1400608, 9.722853]"
       ]
      },
      {
       "output_type": "stream",
       "stream": "stdout",
       "text": [
        "\n",
        "[-0.17836803, 0.11611878, 9.752781]"
       ]
      },
      {
       "output_type": "stream",
       "stream": "stdout",
       "text": [
        "\n",
        "[-0.18674773, 0.12569559, 9.727641]"
       ]
      },
      {
       "output_type": "stream",
       "stream": "stdout",
       "text": [
        "\n",
        "[-0.17357962, 0.12210429, 9.750386]"
       ]
      },
      {
       "output_type": "stream",
       "stream": "stdout",
       "text": [
        "\n",
        "[-0.18315643, 0.11252748, 9.750386]"
       ]
      },
      {
       "output_type": "stream",
       "stream": "stdout",
       "text": [
        "\n",
        "[-0.16879122, 0.12449849, 9.730036]"
       ]
      },
      {
       "output_type": "stream",
       "stream": "stdout",
       "text": [
        "\n"
       ]
      },
      {
       "metadata": {},
       "output_type": "pyout",
       "prompt_number": 111,
       "text": [
        "Result(id=147, result=None, error=None)"
       ]
      }
     ],
     "prompt_number": 111
    },
    {
     "cell_type": "code",
     "collapsed": false,
     "input": [
      "dt= 100\n",
      "tiempo = 0\n",
      "f = open(\"../files/cuentaPasos.txt\", \"w\")  #abre el archivo y esta en modo de escritura\n",
      "mensaje = droide.dialogGetInput('TTS', 'Escriba tu nombre').result\n",
      "#falta poner la condici\u00f3n de si mensaje esta vac\u00edo entonces no haga nada\n",
      "if mensaje is not -1:\n",
      "    #activa sensor\n",
      "    droid.startSensingTimed(2,dt) #2 sensor del acelerometro\n",
      "    print droid.sensorsReadAccelerometer().result\n",
      "    time.sleep(dt/1000.0)\n",
      "    tiempo += dt\n",
      "    if tiempo >10:\n",
      "        droid.ttsSpeak(\"Ahora a comienza a caminar\")\n",
      "        pasos = droid.sensorsReadAccelerometer().result\n",
      "        f.write(pasos + \"\\n\" ) \n",
      "        time.sleep(20)\n",
      "        droid.stopSensing()\n",
      "        droid.ttsSpeak(\"deja de caminar\")\n",
      "        \n",
      "#cerrar el archivo despues de haber parado el sesor\n",
      "#f.close()\n"
     ],
     "language": "python",
     "metadata": {},
     "outputs": [
      {
       "output_type": "stream",
       "stream": "stdout",
       "text": [
        "[0.22266077, 2.906561, 9.281123]\n"
       ]
      },
      {
       "ename": "ValueError",
       "evalue": "I/O operation on closed file",
       "output_type": "pyerr",
       "traceback": [
        "\u001b[1;31m---------------------------------------------------------------------------\u001b[0m\n\u001b[1;31mValueError\u001b[0m                                Traceback (most recent call last)",
        "\u001b[1;32m<ipython-input-134-d32d89480352>\u001b[0m in \u001b[0;36m<module>\u001b[1;34m()\u001b[0m\n\u001b[0;32m     13\u001b[0m         \u001b[0mdroid\u001b[0m\u001b[1;33m.\u001b[0m\u001b[0mttsSpeak\u001b[0m\u001b[1;33m(\u001b[0m\u001b[1;34m\"Ahora a comienza a caminar\"\u001b[0m\u001b[1;33m)\u001b[0m\u001b[1;33m\u001b[0m\u001b[0m\n\u001b[0;32m     14\u001b[0m         \u001b[0mpasos\u001b[0m \u001b[1;33m=\u001b[0m \u001b[0mdroid\u001b[0m\u001b[1;33m.\u001b[0m\u001b[0msensorsReadAccelerometer\u001b[0m\u001b[1;33m(\u001b[0m\u001b[1;33m)\u001b[0m\u001b[1;33m.\u001b[0m\u001b[0mresult\u001b[0m\u001b[1;33m\u001b[0m\u001b[0m\n\u001b[1;32m---> 15\u001b[1;33m         \u001b[0mf\u001b[0m\u001b[1;33m.\u001b[0m\u001b[0mwrite\u001b[0m\u001b[1;33m(\u001b[0m\u001b[0mpasos\u001b[0m\u001b[1;33m)\u001b[0m\u001b[1;33m\u001b[0m\u001b[0m\n\u001b[0m\u001b[0;32m     16\u001b[0m         \u001b[0mtime\u001b[0m\u001b[1;33m.\u001b[0m\u001b[0msleep\u001b[0m\u001b[1;33m(\u001b[0m\u001b[1;36m10\u001b[0m\u001b[1;33m)\u001b[0m\u001b[1;33m\u001b[0m\u001b[0m\n\u001b[0;32m     17\u001b[0m         \u001b[0mdroid\u001b[0m\u001b[1;33m.\u001b[0m\u001b[0mstopSensing\u001b[0m\u001b[1;33m(\u001b[0m\u001b[1;33m)\u001b[0m\u001b[1;33m\u001b[0m\u001b[0m\n",
        "\u001b[1;31mValueError\u001b[0m: I/O operation on closed file"
       ]
      }
     ],
     "prompt_number": 134
    },
    {
     "cell_type": "code",
     "collapsed": false,
     "input": [
      "mensaje =droide.dialogGetInput('TTS', 'Escriba tu nombre').result"
     ],
     "language": "python",
     "metadata": {},
     "outputs": [],
     "prompt_number": 109
    },
    {
     "cell_type": "code",
     "collapsed": false,
     "input": [
      "mensaje"
     ],
     "language": "python",
     "metadata": {},
     "outputs": [
      {
       "metadata": {},
       "output_type": "pyout",
       "prompt_number": 107,
       "text": [
        "Result(id=2, result=u'ee', error=None)"
       ]
      }
     ],
     "prompt_number": 107
    },
    {
     "cell_type": "code",
     "collapsed": false,
     "input": [
      "mensaje"
     ],
     "language": "python",
     "metadata": {},
     "outputs": [
      {
       "metadata": {},
       "output_type": "pyout",
       "prompt_number": 110,
       "text": [
        "u'ff'"
       ]
      }
     ],
     "prompt_number": 110
    },
    {
     "cell_type": "code",
     "collapsed": false,
     "input": [
      "droid.stopSensing()"
     ],
     "language": "python",
     "metadata": {},
     "outputs": [
      {
       "metadata": {},
       "output_type": "pyout",
       "prompt_number": 135,
       "text": [
        "Result(id=193, result=None, error=None)"
       ]
      }
     ],
     "prompt_number": 135
    },
    {
     "cell_type": "code",
     "collapsed": false,
     "input": [
      "f.close()"
     ],
     "language": "python",
     "metadata": {},
     "outputs": [],
     "prompt_number": 129
    },
    {
     "cell_type": "code",
     "collapsed": false,
     "input": [
      "%%file android_test.py"
     ],
     "language": "python",
     "metadata": {},
     "outputs": []
    },
    {
     "cell_type": "code",
     "collapsed": false,
     "input": [],
     "language": "python",
     "metadata": {},
     "outputs": []
    }
   ],
   "metadata": {}
  }
 ]
}